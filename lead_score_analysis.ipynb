{
 "cells": [
  {
   "cell_type": "markdown",
   "metadata": {},
   "source": [
    "Problem Statement - \n",
    "\n",
    "An education company named X Education sells online courses to industry professionals. On any given day, many professionals who are interested in the courses land on their website and browse for courses. \n",
    "\n",
    " \n",
    "\n",
    "The company markets its courses on several websites and search engines like Google. Once these people land on the website, they might browse the courses or fill up a form for the course or watch some videos. When these people fill up a form providing their email address or phone number, they are classified to be a lead. Moreover, the company also gets leads through past referrals. Once these leads are acquired, employees from the sales team start making calls, writing emails, etc. Through this process, some of the leads get converted while most do not. The typical lead conversion rate at X education is around 30%. \n",
    "\n",
    " \n",
    "\n",
    "Now, although X Education gets a lot of leads, its lead conversion rate is very poor. For example, if, say, they acquire 100 leads in a day, only about 30 of them are converted. To make this process more efficient, the company wishes to identify the most potential leads, also known as ‘Hot Leads’. If they successfully identify this set of leads, the lead conversion rate should go up as the sales team will now be focusing more on communicating with the potential leads rather than making calls to everyone. A typical lead conversion process can be represented using the following funnel:\n",
    "\n",
    "\n",
    "As you can see, there are a lot of leads generated in the initial stage (top) but only a few of them come out as paying customers from the bottom. In the middle stage, you need to nurture the potential leads well (i.e. educating the leads about the product, constantly communicating etc. ) in order to get a higher lead conversion.\n",
    "\n",
    " \n",
    "\n",
    "X Education has appointed you to help them select the most promising leads, i.e. the leads that are most likely to convert into paying customers. The company requires you to build a model wherein you need to assign a lead score to each of the leads such that the customers with a higher lead score have a higher conversion chance and the customers with a lower lead score have a lower conversion chance. The CEO, in particular, has given a ballpark of the target lead conversion rate to be around 80%.\n",
    "\n",
    " \n",
    "\n",
    "Data\n",
    "You have been provided with a leads dataset from the past with around 9000 data points. This dataset consists of various attributes such as Lead Source, Total Time Spent on Website, Total Visits, Last Activity, etc. which may or may not be useful in ultimately deciding whether a lead will be converted or not. The target variable, in this case, is the column ‘Converted’ which tells whether a past lead was converted or not wherein 1 means it was converted and 0 means it wasn’t converted. You can learn more about the dataset from the data dictionary provided in the zip folder at the end of the page. Another thing that you also need to check out are the levels present in the categorical variables. Many of the categorical variables have a level called 'Select' which needs to be handled because it is as good as a null value (think why?).\n",
    "\n",
    " \n",
    "\n",
    "Goals of the Case Study\n",
    "There are quite a few goals for this case study:\n",
    "\n",
    "Build a logistic regression model to assign a lead score between 0 and 100 to each of the leads which can be used by the company to target potential leads. A higher score would mean that the lead is hot, i.e. is most likely to convert whereas a lower score would mean that the lead is cold and will mostly not get converted.\n",
    "There are some more problems presented by the company which your model should be able to adjust to if the company's requirement changes in the future so you will need to handle these as well. These problems are provided in a separate doc file. Please fill it based on the logistic regression model you got in the first step. Also, make sure you include this in your final PPT where you'll make recommendations.\n",
    " \n",
    "\n",
    "Results Expected\n",
    "A well-commented Jupyter notebook with at least the logistic regression model, the conversion predictions and evaluation metrics.\n",
    "The word document filled with solutions to all the problems.\n",
    "The overall approach of the analysis in a presentation.\n",
    "Mention the problem statement and the analysis approach briefly \n",
    "Explain the results in business terms\n",
    "Include visualisations and summarise the most important results in the presentation\n",
    "A brief summary report in 500 words explaining how you proceeded with the assignment and the learnings that you gathered.\n",
    " \n",
    "\n",
    "You need to submit the following four components:\n",
    "\n",
    "Python commented file: Should include detailed comments and should not contain unnecessary pieces of code.\n",
    "Word File: Answer all the questions asked by the company in the word document provided.\n",
    "Presentation:  Make a presentation to present your analysis to the chief data scientist of your company (and thus you should include both technical and business aspects). The presentation should be concise, clear, and to the point. Submit the presentation after converting it into PDF format.\n",
    "PDF File: Write the summary report in a word file and submit it as a PDF.\n",
    " \n",
    "Downloads\n",
    "All the files required for the case study are given in the following zip file."
   ]
  },
  {
   "cell_type": "code",
   "execution_count": 2,
   "metadata": {},
   "outputs": [],
   "source": [
    "import pandas as pd\n",
    "import numpy as np"
   ]
  },
  {
   "cell_type": "markdown",
   "metadata": {},
   "source": [
    "#### Load the dataset"
   ]
  },
  {
   "cell_type": "code",
   "execution_count": 3,
   "metadata": {},
   "outputs": [],
   "source": [
    "data = pd.read_csv(\"Leads.csv\")"
   ]
  },
  {
   "cell_type": "code",
   "execution_count": 4,
   "metadata": {},
   "outputs": [
    {
     "data": {
      "text/html": [
       "<div>\n",
       "<style scoped>\n",
       "    .dataframe tbody tr th:only-of-type {\n",
       "        vertical-align: middle;\n",
       "    }\n",
       "\n",
       "    .dataframe tbody tr th {\n",
       "        vertical-align: top;\n",
       "    }\n",
       "\n",
       "    .dataframe thead th {\n",
       "        text-align: right;\n",
       "    }\n",
       "</style>\n",
       "<table border=\"1\" class=\"dataframe\">\n",
       "  <thead>\n",
       "    <tr style=\"text-align: right;\">\n",
       "      <th></th>\n",
       "      <th>Prospect ID</th>\n",
       "      <th>Lead Number</th>\n",
       "      <th>Lead Origin</th>\n",
       "      <th>Lead Source</th>\n",
       "      <th>Do Not Email</th>\n",
       "      <th>Do Not Call</th>\n",
       "      <th>Converted</th>\n",
       "      <th>TotalVisits</th>\n",
       "      <th>Total Time Spent on Website</th>\n",
       "      <th>Page Views Per Visit</th>\n",
       "      <th>...</th>\n",
       "      <th>Get updates on DM Content</th>\n",
       "      <th>Lead Profile</th>\n",
       "      <th>City</th>\n",
       "      <th>Asymmetrique Activity Index</th>\n",
       "      <th>Asymmetrique Profile Index</th>\n",
       "      <th>Asymmetrique Activity Score</th>\n",
       "      <th>Asymmetrique Profile Score</th>\n",
       "      <th>I agree to pay the amount through cheque</th>\n",
       "      <th>A free copy of Mastering The Interview</th>\n",
       "      <th>Last Notable Activity</th>\n",
       "    </tr>\n",
       "  </thead>\n",
       "  <tbody>\n",
       "    <tr>\n",
       "      <th>0</th>\n",
       "      <td>7927b2df-8bba-4d29-b9a2-b6e0beafe620</td>\n",
       "      <td>660737</td>\n",
       "      <td>API</td>\n",
       "      <td>Olark Chat</td>\n",
       "      <td>No</td>\n",
       "      <td>No</td>\n",
       "      <td>0</td>\n",
       "      <td>0.0</td>\n",
       "      <td>0</td>\n",
       "      <td>0.0</td>\n",
       "      <td>...</td>\n",
       "      <td>No</td>\n",
       "      <td>Select</td>\n",
       "      <td>Select</td>\n",
       "      <td>02.Medium</td>\n",
       "      <td>02.Medium</td>\n",
       "      <td>15.0</td>\n",
       "      <td>15.0</td>\n",
       "      <td>No</td>\n",
       "      <td>No</td>\n",
       "      <td>Modified</td>\n",
       "    </tr>\n",
       "    <tr>\n",
       "      <th>1</th>\n",
       "      <td>2a272436-5132-4136-86fa-dcc88c88f482</td>\n",
       "      <td>660728</td>\n",
       "      <td>API</td>\n",
       "      <td>Organic Search</td>\n",
       "      <td>No</td>\n",
       "      <td>No</td>\n",
       "      <td>0</td>\n",
       "      <td>5.0</td>\n",
       "      <td>674</td>\n",
       "      <td>2.5</td>\n",
       "      <td>...</td>\n",
       "      <td>No</td>\n",
       "      <td>Select</td>\n",
       "      <td>Select</td>\n",
       "      <td>02.Medium</td>\n",
       "      <td>02.Medium</td>\n",
       "      <td>15.0</td>\n",
       "      <td>15.0</td>\n",
       "      <td>No</td>\n",
       "      <td>No</td>\n",
       "      <td>Email Opened</td>\n",
       "    </tr>\n",
       "    <tr>\n",
       "      <th>2</th>\n",
       "      <td>8cc8c611-a219-4f35-ad23-fdfd2656bd8a</td>\n",
       "      <td>660727</td>\n",
       "      <td>Landing Page Submission</td>\n",
       "      <td>Direct Traffic</td>\n",
       "      <td>No</td>\n",
       "      <td>No</td>\n",
       "      <td>1</td>\n",
       "      <td>2.0</td>\n",
       "      <td>1532</td>\n",
       "      <td>2.0</td>\n",
       "      <td>...</td>\n",
       "      <td>No</td>\n",
       "      <td>Potential Lead</td>\n",
       "      <td>Mumbai</td>\n",
       "      <td>02.Medium</td>\n",
       "      <td>01.High</td>\n",
       "      <td>14.0</td>\n",
       "      <td>20.0</td>\n",
       "      <td>No</td>\n",
       "      <td>Yes</td>\n",
       "      <td>Email Opened</td>\n",
       "    </tr>\n",
       "    <tr>\n",
       "      <th>3</th>\n",
       "      <td>0cc2df48-7cf4-4e39-9de9-19797f9b38cc</td>\n",
       "      <td>660719</td>\n",
       "      <td>Landing Page Submission</td>\n",
       "      <td>Direct Traffic</td>\n",
       "      <td>No</td>\n",
       "      <td>No</td>\n",
       "      <td>0</td>\n",
       "      <td>1.0</td>\n",
       "      <td>305</td>\n",
       "      <td>1.0</td>\n",
       "      <td>...</td>\n",
       "      <td>No</td>\n",
       "      <td>Select</td>\n",
       "      <td>Mumbai</td>\n",
       "      <td>02.Medium</td>\n",
       "      <td>01.High</td>\n",
       "      <td>13.0</td>\n",
       "      <td>17.0</td>\n",
       "      <td>No</td>\n",
       "      <td>No</td>\n",
       "      <td>Modified</td>\n",
       "    </tr>\n",
       "    <tr>\n",
       "      <th>4</th>\n",
       "      <td>3256f628-e534-4826-9d63-4a8b88782852</td>\n",
       "      <td>660681</td>\n",
       "      <td>Landing Page Submission</td>\n",
       "      <td>Google</td>\n",
       "      <td>No</td>\n",
       "      <td>No</td>\n",
       "      <td>1</td>\n",
       "      <td>2.0</td>\n",
       "      <td>1428</td>\n",
       "      <td>1.0</td>\n",
       "      <td>...</td>\n",
       "      <td>No</td>\n",
       "      <td>Select</td>\n",
       "      <td>Mumbai</td>\n",
       "      <td>02.Medium</td>\n",
       "      <td>01.High</td>\n",
       "      <td>15.0</td>\n",
       "      <td>18.0</td>\n",
       "      <td>No</td>\n",
       "      <td>No</td>\n",
       "      <td>Modified</td>\n",
       "    </tr>\n",
       "  </tbody>\n",
       "</table>\n",
       "<p>5 rows × 37 columns</p>\n",
       "</div>"
      ],
      "text/plain": [
       "                            Prospect ID  Lead Number              Lead Origin  \\\n",
       "0  7927b2df-8bba-4d29-b9a2-b6e0beafe620       660737                      API   \n",
       "1  2a272436-5132-4136-86fa-dcc88c88f482       660728                      API   \n",
       "2  8cc8c611-a219-4f35-ad23-fdfd2656bd8a       660727  Landing Page Submission   \n",
       "3  0cc2df48-7cf4-4e39-9de9-19797f9b38cc       660719  Landing Page Submission   \n",
       "4  3256f628-e534-4826-9d63-4a8b88782852       660681  Landing Page Submission   \n",
       "\n",
       "      Lead Source Do Not Email Do Not Call  Converted  TotalVisits  \\\n",
       "0      Olark Chat           No          No          0          0.0   \n",
       "1  Organic Search           No          No          0          5.0   \n",
       "2  Direct Traffic           No          No          1          2.0   \n",
       "3  Direct Traffic           No          No          0          1.0   \n",
       "4          Google           No          No          1          2.0   \n",
       "\n",
       "   Total Time Spent on Website  Page Views Per Visit  ...  \\\n",
       "0                            0                   0.0  ...   \n",
       "1                          674                   2.5  ...   \n",
       "2                         1532                   2.0  ...   \n",
       "3                          305                   1.0  ...   \n",
       "4                         1428                   1.0  ...   \n",
       "\n",
       "  Get updates on DM Content    Lead Profile    City  \\\n",
       "0                        No          Select  Select   \n",
       "1                        No          Select  Select   \n",
       "2                        No  Potential Lead  Mumbai   \n",
       "3                        No          Select  Mumbai   \n",
       "4                        No          Select  Mumbai   \n",
       "\n",
       "  Asymmetrique Activity Index Asymmetrique Profile Index  \\\n",
       "0                   02.Medium                  02.Medium   \n",
       "1                   02.Medium                  02.Medium   \n",
       "2                   02.Medium                    01.High   \n",
       "3                   02.Medium                    01.High   \n",
       "4                   02.Medium                    01.High   \n",
       "\n",
       "  Asymmetrique Activity Score Asymmetrique Profile Score  \\\n",
       "0                        15.0                       15.0   \n",
       "1                        15.0                       15.0   \n",
       "2                        14.0                       20.0   \n",
       "3                        13.0                       17.0   \n",
       "4                        15.0                       18.0   \n",
       "\n",
       "  I agree to pay the amount through cheque  \\\n",
       "0                                       No   \n",
       "1                                       No   \n",
       "2                                       No   \n",
       "3                                       No   \n",
       "4                                       No   \n",
       "\n",
       "  A free copy of Mastering The Interview Last Notable Activity  \n",
       "0                                     No              Modified  \n",
       "1                                     No          Email Opened  \n",
       "2                                    Yes          Email Opened  \n",
       "3                                     No              Modified  \n",
       "4                                     No              Modified  \n",
       "\n",
       "[5 rows x 37 columns]"
      ]
     },
     "execution_count": 4,
     "metadata": {},
     "output_type": "execute_result"
    }
   ],
   "source": [
    "data.head()"
   ]
  },
  {
   "cell_type": "code",
   "execution_count": 5,
   "metadata": {},
   "outputs": [
    {
     "data": {
      "text/plain": [
       "Index(['Prospect ID', 'Lead Number', 'Lead Origin', 'Lead Source',\n",
       "       'Do Not Email', 'Do Not Call', 'Converted', 'TotalVisits',\n",
       "       'Total Time Spent on Website', 'Page Views Per Visit', 'Last Activity',\n",
       "       'Country', 'Specialization', 'How did you hear about X Education',\n",
       "       'What is your current occupation',\n",
       "       'What matters most to you in choosing a course', 'Search', 'Magazine',\n",
       "       'Newspaper Article', 'X Education Forums', 'Newspaper',\n",
       "       'Digital Advertisement', 'Through Recommendations',\n",
       "       'Receive More Updates About Our Courses', 'Tags', 'Lead Quality',\n",
       "       'Update me on Supply Chain Content', 'Get updates on DM Content',\n",
       "       'Lead Profile', 'City', 'Asymmetrique Activity Index',\n",
       "       'Asymmetrique Profile Index', 'Asymmetrique Activity Score',\n",
       "       'Asymmetrique Profile Score',\n",
       "       'I agree to pay the amount through cheque',\n",
       "       'A free copy of Mastering The Interview', 'Last Notable Activity'],\n",
       "      dtype='object')"
      ]
     },
     "execution_count": 5,
     "metadata": {},
     "output_type": "execute_result"
    }
   ],
   "source": [
    "data.columns"
   ]
  },
  {
   "cell_type": "code",
   "execution_count": 6,
   "metadata": {},
   "outputs": [],
   "source": [
    "data.columns = ['prospect_id', 'lead_number', 'lead_origin', 'lead_source',\n",
    " 'do_not_email', 'do_not_call', 'converted', 'total_visits',\n",
    " 'total_time_spent_on_website', 'page_views_per_visit', 'last_activity',\n",
    " 'country', 'specialization', 'how_did_you_hear_about_x_education',\n",
    " 'what_is_your_current_occupation',\n",
    " 'what_matters_most_to_you_in_choosing_a_course', 'search', 'magazine',\n",
    " 'newspaper_article', 'x_education_forums', 'newspaper',\n",
    " 'digital_advertisement', 'through_recommendations',\n",
    " 'receive_more_updates_about_our_courses', 'tags', 'lead_quality',\n",
    " 'update_me_on_supply_chain_content', 'get_updates_on_dm_content',\n",
    " 'lead_profile', 'city', 'asymmetrique_activity_index',\n",
    " 'asymmetrique_profile_index', 'asymmetrique_activity_score',\n",
    " 'asymmetrique_profile_score',\n",
    " 'i_agree_to_pay_the_amount_through_cheque',\n",
    " 'a_free_copy_of_mastering_the_interview', 'last_notable_activity']\n"
   ]
  },
  {
   "cell_type": "code",
   "execution_count": 7,
   "metadata": {},
   "outputs": [
    {
     "data": {
      "text/plain": [
       "(9240, 37)"
      ]
     },
     "execution_count": 7,
     "metadata": {},
     "output_type": "execute_result"
    }
   ],
   "source": [
    "data.shape"
   ]
  },
  {
   "cell_type": "code",
   "execution_count": 8,
   "metadata": {},
   "outputs": [
    {
     "name": "stdout",
     "output_type": "stream",
     "text": [
      "<class 'pandas.core.frame.DataFrame'>\n",
      "RangeIndex: 9240 entries, 0 to 9239\n",
      "Data columns (total 37 columns):\n",
      " #   Column                                         Non-Null Count  Dtype  \n",
      "---  ------                                         --------------  -----  \n",
      " 0   prospect_id                                    9240 non-null   object \n",
      " 1   lead_number                                    9240 non-null   int64  \n",
      " 2   lead_origin                                    9240 non-null   object \n",
      " 3   lead_source                                    9204 non-null   object \n",
      " 4   do_not_email                                   9240 non-null   object \n",
      " 5   do_not_call                                    9240 non-null   object \n",
      " 6   converted                                      9240 non-null   int64  \n",
      " 7   total_visits                                   9103 non-null   float64\n",
      " 8   total_time_spent_on_website                    9240 non-null   int64  \n",
      " 9   page_views_per_visit                           9103 non-null   float64\n",
      " 10  last_activity                                  9137 non-null   object \n",
      " 11  country                                        6779 non-null   object \n",
      " 12  specialization                                 7802 non-null   object \n",
      " 13  how_did_you_hear_about_x_education             7033 non-null   object \n",
      " 14  what_is_your_current_occupation                6550 non-null   object \n",
      " 15  what_matters_most_to_you_in_choosing_a_course  6531 non-null   object \n",
      " 16  search                                         9240 non-null   object \n",
      " 17  magazine                                       9240 non-null   object \n",
      " 18  newspaper_article                              9240 non-null   object \n",
      " 19  x_education_forums                             9240 non-null   object \n",
      " 20  newspaper                                      9240 non-null   object \n",
      " 21  digital_advertisement                          9240 non-null   object \n",
      " 22  through_recommendations                        9240 non-null   object \n",
      " 23  receive_more_updates_about_our_courses         9240 non-null   object \n",
      " 24  tags                                           5887 non-null   object \n",
      " 25  lead_quality                                   4473 non-null   object \n",
      " 26  update_me_on_supply_chain_content              9240 non-null   object \n",
      " 27  get_updates_on_dm_content                      9240 non-null   object \n",
      " 28  lead_profile                                   6531 non-null   object \n",
      " 29  city                                           7820 non-null   object \n",
      " 30  asymmetrique_activity_index                    5022 non-null   object \n",
      " 31  asymmetrique_profile_index                     5022 non-null   object \n",
      " 32  asymmetrique_activity_score                    5022 non-null   float64\n",
      " 33  asymmetrique_profile_score                     5022 non-null   float64\n",
      " 34  i_agree_to_pay_the_amount_through_cheque       9240 non-null   object \n",
      " 35  a_free_copy_of_mastering_the_interview         9240 non-null   object \n",
      " 36  last_notable_activity                          9240 non-null   object \n",
      "dtypes: float64(4), int64(3), object(30)\n",
      "memory usage: 2.6+ MB\n"
     ]
    }
   ],
   "source": [
    "data.info()"
   ]
  },
  {
   "cell_type": "code",
   "execution_count": 9,
   "metadata": {},
   "outputs": [
    {
     "data": {
      "text/plain": [
       "Index(['prospect_id', 'lead_number', 'lead_origin', 'lead_source',\n",
       "       'do_not_email', 'do_not_call', 'converted', 'total_visits',\n",
       "       'total_time_spent_on_website', 'page_views_per_visit', 'last_activity',\n",
       "       'country', 'specialization', 'how_did_you_hear_about_x_education',\n",
       "       'what_is_your_current_occupation',\n",
       "       'what_matters_most_to_you_in_choosing_a_course', 'search', 'magazine',\n",
       "       'newspaper_article', 'x_education_forums', 'newspaper',\n",
       "       'digital_advertisement', 'through_recommendations',\n",
       "       'receive_more_updates_about_our_courses', 'tags', 'lead_quality',\n",
       "       'update_me_on_supply_chain_content', 'get_updates_on_dm_content',\n",
       "       'lead_profile', 'city', 'asymmetrique_activity_index',\n",
       "       'asymmetrique_profile_index', 'asymmetrique_activity_score',\n",
       "       'asymmetrique_profile_score',\n",
       "       'i_agree_to_pay_the_amount_through_cheque',\n",
       "       'a_free_copy_of_mastering_the_interview', 'last_notable_activity'],\n",
       "      dtype='object')"
      ]
     },
     "execution_count": 9,
     "metadata": {},
     "output_type": "execute_result"
    }
   ],
   "source": [
    "data.columns"
   ]
  },
  {
   "cell_type": "code",
   "execution_count": 10,
   "metadata": {},
   "outputs": [
    {
     "data": {
      "text/html": [
       "<div>\n",
       "<style scoped>\n",
       "    .dataframe tbody tr th:only-of-type {\n",
       "        vertical-align: middle;\n",
       "    }\n",
       "\n",
       "    .dataframe tbody tr th {\n",
       "        vertical-align: top;\n",
       "    }\n",
       "\n",
       "    .dataframe thead th {\n",
       "        text-align: right;\n",
       "    }\n",
       "</style>\n",
       "<table border=\"1\" class=\"dataframe\">\n",
       "  <thead>\n",
       "    <tr style=\"text-align: right;\">\n",
       "      <th></th>\n",
       "      <th>prospect_id</th>\n",
       "      <th>lead_number</th>\n",
       "      <th>lead_origin</th>\n",
       "      <th>lead_source</th>\n",
       "      <th>do_not_email</th>\n",
       "      <th>do_not_call</th>\n",
       "      <th>converted</th>\n",
       "      <th>total_visits</th>\n",
       "      <th>total_time_spent_on_website</th>\n",
       "      <th>page_views_per_visit</th>\n",
       "      <th>...</th>\n",
       "      <th>get_updates_on_dm_content</th>\n",
       "      <th>lead_profile</th>\n",
       "      <th>city</th>\n",
       "      <th>asymmetrique_activity_index</th>\n",
       "      <th>asymmetrique_profile_index</th>\n",
       "      <th>asymmetrique_activity_score</th>\n",
       "      <th>asymmetrique_profile_score</th>\n",
       "      <th>i_agree_to_pay_the_amount_through_cheque</th>\n",
       "      <th>a_free_copy_of_mastering_the_interview</th>\n",
       "      <th>last_notable_activity</th>\n",
       "    </tr>\n",
       "  </thead>\n",
       "  <tbody>\n",
       "    <tr>\n",
       "      <th>0</th>\n",
       "      <td>7927b2df-8bba-4d29-b9a2-b6e0beafe620</td>\n",
       "      <td>660737</td>\n",
       "      <td>API</td>\n",
       "      <td>Olark Chat</td>\n",
       "      <td>No</td>\n",
       "      <td>No</td>\n",
       "      <td>0</td>\n",
       "      <td>0.0</td>\n",
       "      <td>0</td>\n",
       "      <td>0.0</td>\n",
       "      <td>...</td>\n",
       "      <td>No</td>\n",
       "      <td>Select</td>\n",
       "      <td>Select</td>\n",
       "      <td>02.Medium</td>\n",
       "      <td>02.Medium</td>\n",
       "      <td>15.0</td>\n",
       "      <td>15.0</td>\n",
       "      <td>No</td>\n",
       "      <td>No</td>\n",
       "      <td>Modified</td>\n",
       "    </tr>\n",
       "    <tr>\n",
       "      <th>1</th>\n",
       "      <td>2a272436-5132-4136-86fa-dcc88c88f482</td>\n",
       "      <td>660728</td>\n",
       "      <td>API</td>\n",
       "      <td>Organic Search</td>\n",
       "      <td>No</td>\n",
       "      <td>No</td>\n",
       "      <td>0</td>\n",
       "      <td>5.0</td>\n",
       "      <td>674</td>\n",
       "      <td>2.5</td>\n",
       "      <td>...</td>\n",
       "      <td>No</td>\n",
       "      <td>Select</td>\n",
       "      <td>Select</td>\n",
       "      <td>02.Medium</td>\n",
       "      <td>02.Medium</td>\n",
       "      <td>15.0</td>\n",
       "      <td>15.0</td>\n",
       "      <td>No</td>\n",
       "      <td>No</td>\n",
       "      <td>Email Opened</td>\n",
       "    </tr>\n",
       "    <tr>\n",
       "      <th>2</th>\n",
       "      <td>8cc8c611-a219-4f35-ad23-fdfd2656bd8a</td>\n",
       "      <td>660727</td>\n",
       "      <td>Landing Page Submission</td>\n",
       "      <td>Direct Traffic</td>\n",
       "      <td>No</td>\n",
       "      <td>No</td>\n",
       "      <td>1</td>\n",
       "      <td>2.0</td>\n",
       "      <td>1532</td>\n",
       "      <td>2.0</td>\n",
       "      <td>...</td>\n",
       "      <td>No</td>\n",
       "      <td>Potential Lead</td>\n",
       "      <td>Mumbai</td>\n",
       "      <td>02.Medium</td>\n",
       "      <td>01.High</td>\n",
       "      <td>14.0</td>\n",
       "      <td>20.0</td>\n",
       "      <td>No</td>\n",
       "      <td>Yes</td>\n",
       "      <td>Email Opened</td>\n",
       "    </tr>\n",
       "    <tr>\n",
       "      <th>3</th>\n",
       "      <td>0cc2df48-7cf4-4e39-9de9-19797f9b38cc</td>\n",
       "      <td>660719</td>\n",
       "      <td>Landing Page Submission</td>\n",
       "      <td>Direct Traffic</td>\n",
       "      <td>No</td>\n",
       "      <td>No</td>\n",
       "      <td>0</td>\n",
       "      <td>1.0</td>\n",
       "      <td>305</td>\n",
       "      <td>1.0</td>\n",
       "      <td>...</td>\n",
       "      <td>No</td>\n",
       "      <td>Select</td>\n",
       "      <td>Mumbai</td>\n",
       "      <td>02.Medium</td>\n",
       "      <td>01.High</td>\n",
       "      <td>13.0</td>\n",
       "      <td>17.0</td>\n",
       "      <td>No</td>\n",
       "      <td>No</td>\n",
       "      <td>Modified</td>\n",
       "    </tr>\n",
       "    <tr>\n",
       "      <th>4</th>\n",
       "      <td>3256f628-e534-4826-9d63-4a8b88782852</td>\n",
       "      <td>660681</td>\n",
       "      <td>Landing Page Submission</td>\n",
       "      <td>Google</td>\n",
       "      <td>No</td>\n",
       "      <td>No</td>\n",
       "      <td>1</td>\n",
       "      <td>2.0</td>\n",
       "      <td>1428</td>\n",
       "      <td>1.0</td>\n",
       "      <td>...</td>\n",
       "      <td>No</td>\n",
       "      <td>Select</td>\n",
       "      <td>Mumbai</td>\n",
       "      <td>02.Medium</td>\n",
       "      <td>01.High</td>\n",
       "      <td>15.0</td>\n",
       "      <td>18.0</td>\n",
       "      <td>No</td>\n",
       "      <td>No</td>\n",
       "      <td>Modified</td>\n",
       "    </tr>\n",
       "  </tbody>\n",
       "</table>\n",
       "<p>5 rows × 37 columns</p>\n",
       "</div>"
      ],
      "text/plain": [
       "                            prospect_id  lead_number              lead_origin  \\\n",
       "0  7927b2df-8bba-4d29-b9a2-b6e0beafe620       660737                      API   \n",
       "1  2a272436-5132-4136-86fa-dcc88c88f482       660728                      API   \n",
       "2  8cc8c611-a219-4f35-ad23-fdfd2656bd8a       660727  Landing Page Submission   \n",
       "3  0cc2df48-7cf4-4e39-9de9-19797f9b38cc       660719  Landing Page Submission   \n",
       "4  3256f628-e534-4826-9d63-4a8b88782852       660681  Landing Page Submission   \n",
       "\n",
       "      lead_source do_not_email do_not_call  converted  total_visits  \\\n",
       "0      Olark Chat           No          No          0           0.0   \n",
       "1  Organic Search           No          No          0           5.0   \n",
       "2  Direct Traffic           No          No          1           2.0   \n",
       "3  Direct Traffic           No          No          0           1.0   \n",
       "4          Google           No          No          1           2.0   \n",
       "\n",
       "   total_time_spent_on_website  page_views_per_visit  ...  \\\n",
       "0                            0                   0.0  ...   \n",
       "1                          674                   2.5  ...   \n",
       "2                         1532                   2.0  ...   \n",
       "3                          305                   1.0  ...   \n",
       "4                         1428                   1.0  ...   \n",
       "\n",
       "  get_updates_on_dm_content    lead_profile    city  \\\n",
       "0                        No          Select  Select   \n",
       "1                        No          Select  Select   \n",
       "2                        No  Potential Lead  Mumbai   \n",
       "3                        No          Select  Mumbai   \n",
       "4                        No          Select  Mumbai   \n",
       "\n",
       "  asymmetrique_activity_index asymmetrique_profile_index  \\\n",
       "0                   02.Medium                  02.Medium   \n",
       "1                   02.Medium                  02.Medium   \n",
       "2                   02.Medium                    01.High   \n",
       "3                   02.Medium                    01.High   \n",
       "4                   02.Medium                    01.High   \n",
       "\n",
       "  asymmetrique_activity_score asymmetrique_profile_score  \\\n",
       "0                        15.0                       15.0   \n",
       "1                        15.0                       15.0   \n",
       "2                        14.0                       20.0   \n",
       "3                        13.0                       17.0   \n",
       "4                        15.0                       18.0   \n",
       "\n",
       "  i_agree_to_pay_the_amount_through_cheque  \\\n",
       "0                                       No   \n",
       "1                                       No   \n",
       "2                                       No   \n",
       "3                                       No   \n",
       "4                                       No   \n",
       "\n",
       "  a_free_copy_of_mastering_the_interview last_notable_activity  \n",
       "0                                     No              Modified  \n",
       "1                                     No          Email Opened  \n",
       "2                                    Yes          Email Opened  \n",
       "3                                     No              Modified  \n",
       "4                                     No              Modified  \n",
       "\n",
       "[5 rows x 37 columns]"
      ]
     },
     "execution_count": 10,
     "metadata": {},
     "output_type": "execute_result"
    }
   ],
   "source": [
    "data.head()"
   ]
  },
  {
   "cell_type": "code",
   "execution_count": 11,
   "metadata": {},
   "outputs": [
    {
     "data": {
      "text/html": [
       "<div>\n",
       "<style scoped>\n",
       "    .dataframe tbody tr th:only-of-type {\n",
       "        vertical-align: middle;\n",
       "    }\n",
       "\n",
       "    .dataframe tbody tr th {\n",
       "        vertical-align: top;\n",
       "    }\n",
       "\n",
       "    .dataframe thead th {\n",
       "        text-align: right;\n",
       "    }\n",
       "</style>\n",
       "<table border=\"1\" class=\"dataframe\">\n",
       "  <thead>\n",
       "    <tr style=\"text-align: right;\">\n",
       "      <th></th>\n",
       "      <th>asymmetrique_activity_index</th>\n",
       "      <th>asymmetrique_profile_index</th>\n",
       "      <th>asymmetrique_activity_score</th>\n",
       "      <th>asymmetrique_profile_score</th>\n",
       "    </tr>\n",
       "  </thead>\n",
       "  <tbody>\n",
       "    <tr>\n",
       "      <th>0</th>\n",
       "      <td>02.Medium</td>\n",
       "      <td>02.Medium</td>\n",
       "      <td>15.0</td>\n",
       "      <td>15.0</td>\n",
       "    </tr>\n",
       "    <tr>\n",
       "      <th>1</th>\n",
       "      <td>02.Medium</td>\n",
       "      <td>02.Medium</td>\n",
       "      <td>15.0</td>\n",
       "      <td>15.0</td>\n",
       "    </tr>\n",
       "    <tr>\n",
       "      <th>2</th>\n",
       "      <td>02.Medium</td>\n",
       "      <td>01.High</td>\n",
       "      <td>14.0</td>\n",
       "      <td>20.0</td>\n",
       "    </tr>\n",
       "    <tr>\n",
       "      <th>3</th>\n",
       "      <td>02.Medium</td>\n",
       "      <td>01.High</td>\n",
       "      <td>13.0</td>\n",
       "      <td>17.0</td>\n",
       "    </tr>\n",
       "    <tr>\n",
       "      <th>4</th>\n",
       "      <td>02.Medium</td>\n",
       "      <td>01.High</td>\n",
       "      <td>15.0</td>\n",
       "      <td>18.0</td>\n",
       "    </tr>\n",
       "  </tbody>\n",
       "</table>\n",
       "</div>"
      ],
      "text/plain": [
       "  asymmetrique_activity_index asymmetrique_profile_index  \\\n",
       "0                   02.Medium                  02.Medium   \n",
       "1                   02.Medium                  02.Medium   \n",
       "2                   02.Medium                    01.High   \n",
       "3                   02.Medium                    01.High   \n",
       "4                   02.Medium                    01.High   \n",
       "\n",
       "   asymmetrique_activity_score  asymmetrique_profile_score  \n",
       "0                         15.0                        15.0  \n",
       "1                         15.0                        15.0  \n",
       "2                         14.0                        20.0  \n",
       "3                         13.0                        17.0  \n",
       "4                         15.0                        18.0  "
      ]
     },
     "execution_count": 11,
     "metadata": {},
     "output_type": "execute_result"
    }
   ],
   "source": [
    "data[['asymmetrique_activity_index',\n",
    "       'asymmetrique_profile_index', 'asymmetrique_activity_score',\n",
    "       'asymmetrique_profile_score']].head()"
   ]
  },
  {
   "cell_type": "code",
   "execution_count": 12,
   "metadata": {},
   "outputs": [
    {
     "data": {
      "text/plain": [
       "converted  asymmetrique_activity_index\n",
       "0          01.High                         576\n",
       "           02.Medium                      2209\n",
       "           03.Low                          329\n",
       "1          01.High                         245\n",
       "           02.Medium                      1630\n",
       "           03.Low                           33\n",
       "dtype: int64"
      ]
     },
     "execution_count": 12,
     "metadata": {},
     "output_type": "execute_result"
    }
   ],
   "source": [
    "data.groupby(['converted','asymmetrique_activity_index']).size()"
   ]
  },
  {
   "cell_type": "code",
   "execution_count": 13,
   "metadata": {},
   "outputs": [
    {
     "data": {
      "text/plain": [
       "converted  asymmetrique_profile_index\n",
       "0          01.High                       1158\n",
       "           02.Medium                     1940\n",
       "           03.Low                          16\n",
       "1          01.High                       1045\n",
       "           02.Medium                      848\n",
       "           03.Low                          15\n",
       "dtype: int64"
      ]
     },
     "execution_count": 13,
     "metadata": {},
     "output_type": "execute_result"
    }
   ],
   "source": [
    "data.groupby(['converted','asymmetrique_profile_index']).size()"
   ]
  },
  {
   "cell_type": "markdown",
   "metadata": {},
   "source": [
    "As the asymmetrique_activity_index, asymmetrique_profile_index - is not clearly defined, and the distribution of their individual groups is not showing any clear segments - we can drop this"
   ]
  },
  {
   "cell_type": "code",
   "execution_count": 14,
   "metadata": {},
   "outputs": [],
   "source": [
    "# filtering out irrelevant columns for analysis like prospect_id, lead_number - which is a unique identifier that does not affect the lead score\n",
    "\n",
    "\n",
    "df = data[['lead_origin', 'lead_source',\n",
    "       'do_not_email', 'do_not_call', 'total_visits',\n",
    "       'total_time_spent_on_website', 'page_views_per_visit', 'last_activity',\n",
    "       'country', 'specialization', 'how_did_you_hear_about_x_education',\n",
    "       'what_is_your_current_occupation',\n",
    "       'what_matters_most_to_you_in_choosing_a_course', 'search', 'magazine',\n",
    "       'newspaper_article', 'x_education_forums', 'newspaper',\n",
    "       'digital_advertisement', 'through_recommendations',\n",
    "       'receive_more_updates_about_our_courses', 'tags', 'lead_quality',\n",
    "       'update_me_on_supply_chain_content', 'get_updates_on_dm_content',\n",
    "       'lead_profile', 'city', 'asymmetrique_activity_score', 'asymmetrique_profile_score', 'i_agree_to_pay_the_amount_through_cheque',\n",
    "       'a_free_copy_of_mastering_the_interview', 'last_notable_activity', 'converted']]"
   ]
  },
  {
   "cell_type": "code",
   "execution_count": 15,
   "metadata": {},
   "outputs": [
    {
     "data": {
      "text/html": [
       "<div>\n",
       "<style scoped>\n",
       "    .dataframe tbody tr th:only-of-type {\n",
       "        vertical-align: middle;\n",
       "    }\n",
       "\n",
       "    .dataframe tbody tr th {\n",
       "        vertical-align: top;\n",
       "    }\n",
       "\n",
       "    .dataframe thead th {\n",
       "        text-align: right;\n",
       "    }\n",
       "</style>\n",
       "<table border=\"1\" class=\"dataframe\">\n",
       "  <thead>\n",
       "    <tr style=\"text-align: right;\">\n",
       "      <th></th>\n",
       "      <th>lead_origin</th>\n",
       "      <th>lead_source</th>\n",
       "      <th>do_not_email</th>\n",
       "      <th>do_not_call</th>\n",
       "      <th>total_visits</th>\n",
       "      <th>total_time_spent_on_website</th>\n",
       "      <th>page_views_per_visit</th>\n",
       "      <th>last_activity</th>\n",
       "      <th>country</th>\n",
       "      <th>specialization</th>\n",
       "      <th>...</th>\n",
       "      <th>update_me_on_supply_chain_content</th>\n",
       "      <th>get_updates_on_dm_content</th>\n",
       "      <th>lead_profile</th>\n",
       "      <th>city</th>\n",
       "      <th>asymmetrique_activity_score</th>\n",
       "      <th>asymmetrique_profile_score</th>\n",
       "      <th>i_agree_to_pay_the_amount_through_cheque</th>\n",
       "      <th>a_free_copy_of_mastering_the_interview</th>\n",
       "      <th>last_notable_activity</th>\n",
       "      <th>converted</th>\n",
       "    </tr>\n",
       "  </thead>\n",
       "  <tbody>\n",
       "    <tr>\n",
       "      <th>0</th>\n",
       "      <td>API</td>\n",
       "      <td>Olark Chat</td>\n",
       "      <td>No</td>\n",
       "      <td>No</td>\n",
       "      <td>0.0</td>\n",
       "      <td>0</td>\n",
       "      <td>0.0</td>\n",
       "      <td>Page Visited on Website</td>\n",
       "      <td>NaN</td>\n",
       "      <td>Select</td>\n",
       "      <td>...</td>\n",
       "      <td>No</td>\n",
       "      <td>No</td>\n",
       "      <td>Select</td>\n",
       "      <td>Select</td>\n",
       "      <td>15.0</td>\n",
       "      <td>15.0</td>\n",
       "      <td>No</td>\n",
       "      <td>No</td>\n",
       "      <td>Modified</td>\n",
       "      <td>0</td>\n",
       "    </tr>\n",
       "    <tr>\n",
       "      <th>1</th>\n",
       "      <td>API</td>\n",
       "      <td>Organic Search</td>\n",
       "      <td>No</td>\n",
       "      <td>No</td>\n",
       "      <td>5.0</td>\n",
       "      <td>674</td>\n",
       "      <td>2.5</td>\n",
       "      <td>Email Opened</td>\n",
       "      <td>India</td>\n",
       "      <td>Select</td>\n",
       "      <td>...</td>\n",
       "      <td>No</td>\n",
       "      <td>No</td>\n",
       "      <td>Select</td>\n",
       "      <td>Select</td>\n",
       "      <td>15.0</td>\n",
       "      <td>15.0</td>\n",
       "      <td>No</td>\n",
       "      <td>No</td>\n",
       "      <td>Email Opened</td>\n",
       "      <td>0</td>\n",
       "    </tr>\n",
       "    <tr>\n",
       "      <th>2</th>\n",
       "      <td>Landing Page Submission</td>\n",
       "      <td>Direct Traffic</td>\n",
       "      <td>No</td>\n",
       "      <td>No</td>\n",
       "      <td>2.0</td>\n",
       "      <td>1532</td>\n",
       "      <td>2.0</td>\n",
       "      <td>Email Opened</td>\n",
       "      <td>India</td>\n",
       "      <td>Business Administration</td>\n",
       "      <td>...</td>\n",
       "      <td>No</td>\n",
       "      <td>No</td>\n",
       "      <td>Potential Lead</td>\n",
       "      <td>Mumbai</td>\n",
       "      <td>14.0</td>\n",
       "      <td>20.0</td>\n",
       "      <td>No</td>\n",
       "      <td>Yes</td>\n",
       "      <td>Email Opened</td>\n",
       "      <td>1</td>\n",
       "    </tr>\n",
       "    <tr>\n",
       "      <th>3</th>\n",
       "      <td>Landing Page Submission</td>\n",
       "      <td>Direct Traffic</td>\n",
       "      <td>No</td>\n",
       "      <td>No</td>\n",
       "      <td>1.0</td>\n",
       "      <td>305</td>\n",
       "      <td>1.0</td>\n",
       "      <td>Unreachable</td>\n",
       "      <td>India</td>\n",
       "      <td>Media and Advertising</td>\n",
       "      <td>...</td>\n",
       "      <td>No</td>\n",
       "      <td>No</td>\n",
       "      <td>Select</td>\n",
       "      <td>Mumbai</td>\n",
       "      <td>13.0</td>\n",
       "      <td>17.0</td>\n",
       "      <td>No</td>\n",
       "      <td>No</td>\n",
       "      <td>Modified</td>\n",
       "      <td>0</td>\n",
       "    </tr>\n",
       "    <tr>\n",
       "      <th>4</th>\n",
       "      <td>Landing Page Submission</td>\n",
       "      <td>Google</td>\n",
       "      <td>No</td>\n",
       "      <td>No</td>\n",
       "      <td>2.0</td>\n",
       "      <td>1428</td>\n",
       "      <td>1.0</td>\n",
       "      <td>Converted to Lead</td>\n",
       "      <td>India</td>\n",
       "      <td>Select</td>\n",
       "      <td>...</td>\n",
       "      <td>No</td>\n",
       "      <td>No</td>\n",
       "      <td>Select</td>\n",
       "      <td>Mumbai</td>\n",
       "      <td>15.0</td>\n",
       "      <td>18.0</td>\n",
       "      <td>No</td>\n",
       "      <td>No</td>\n",
       "      <td>Modified</td>\n",
       "      <td>1</td>\n",
       "    </tr>\n",
       "  </tbody>\n",
       "</table>\n",
       "<p>5 rows × 33 columns</p>\n",
       "</div>"
      ],
      "text/plain": [
       "               lead_origin     lead_source do_not_email do_not_call  \\\n",
       "0                      API      Olark Chat           No          No   \n",
       "1                      API  Organic Search           No          No   \n",
       "2  Landing Page Submission  Direct Traffic           No          No   \n",
       "3  Landing Page Submission  Direct Traffic           No          No   \n",
       "4  Landing Page Submission          Google           No          No   \n",
       "\n",
       "   total_visits  total_time_spent_on_website  page_views_per_visit  \\\n",
       "0           0.0                            0                   0.0   \n",
       "1           5.0                          674                   2.5   \n",
       "2           2.0                         1532                   2.0   \n",
       "3           1.0                          305                   1.0   \n",
       "4           2.0                         1428                   1.0   \n",
       "\n",
       "             last_activity country           specialization  ...  \\\n",
       "0  Page Visited on Website     NaN                   Select  ...   \n",
       "1             Email Opened   India                   Select  ...   \n",
       "2             Email Opened   India  Business Administration  ...   \n",
       "3              Unreachable   India    Media and Advertising  ...   \n",
       "4        Converted to Lead   India                   Select  ...   \n",
       "\n",
       "  update_me_on_supply_chain_content get_updates_on_dm_content    lead_profile  \\\n",
       "0                                No                        No          Select   \n",
       "1                                No                        No          Select   \n",
       "2                                No                        No  Potential Lead   \n",
       "3                                No                        No          Select   \n",
       "4                                No                        No          Select   \n",
       "\n",
       "     city asymmetrique_activity_score asymmetrique_profile_score  \\\n",
       "0  Select                        15.0                       15.0   \n",
       "1  Select                        15.0                       15.0   \n",
       "2  Mumbai                        14.0                       20.0   \n",
       "3  Mumbai                        13.0                       17.0   \n",
       "4  Mumbai                        15.0                       18.0   \n",
       "\n",
       "  i_agree_to_pay_the_amount_through_cheque  \\\n",
       "0                                       No   \n",
       "1                                       No   \n",
       "2                                       No   \n",
       "3                                       No   \n",
       "4                                       No   \n",
       "\n",
       "  a_free_copy_of_mastering_the_interview last_notable_activity converted  \n",
       "0                                     No              Modified         0  \n",
       "1                                     No          Email Opened         0  \n",
       "2                                    Yes          Email Opened         1  \n",
       "3                                     No              Modified         0  \n",
       "4                                     No              Modified         1  \n",
       "\n",
       "[5 rows x 33 columns]"
      ]
     },
     "execution_count": 15,
     "metadata": {},
     "output_type": "execute_result"
    }
   ],
   "source": [
    "df.head()"
   ]
  },
  {
   "cell_type": "code",
   "execution_count": 16,
   "metadata": {},
   "outputs": [
    {
     "name": "stdout",
     "output_type": "stream",
     "text": [
      "lead_origin Categories count - 5\n",
      "lead_source Categories count - 22\n",
      "do_not_email Categories count - 2\n",
      "do_not_call Categories count - 2\n",
      "last_activity Categories count - 18\n",
      "country Categories count - 39\n",
      "specialization Categories count - 20\n",
      "how_did_you_hear_about_x_education Categories count - 11\n",
      "what_is_your_current_occupation Categories count - 7\n",
      "what_matters_most_to_you_in_choosing_a_course Categories count - 4\n",
      "search Categories count - 2\n",
      "magazine Categories count - 1\n",
      "newspaper_article Categories count - 2\n",
      "x_education_forums Categories count - 2\n",
      "newspaper Categories count - 2\n",
      "digital_advertisement Categories count - 2\n",
      "through_recommendations Categories count - 2\n",
      "receive_more_updates_about_our_courses Categories count - 1\n",
      "tags Categories count - 27\n",
      "lead_quality Categories count - 6\n",
      "update_me_on_supply_chain_content Categories count - 1\n",
      "get_updates_on_dm_content Categories count - 1\n",
      "lead_profile Categories count - 7\n",
      "city Categories count - 8\n",
      "i_agree_to_pay_the_amount_through_cheque Categories count - 1\n",
      "a_free_copy_of_mastering_the_interview Categories count - 2\n",
      "last_notable_activity Categories count - 16\n"
     ]
    }
   ],
   "source": [
    "import pandas as pd\n",
    "\n",
    "for column in df.select_dtypes(include='object').columns:\n",
    "    print(f\"{column} Categories count - {len(df[column].unique())}\")"
   ]
  },
  {
   "cell_type": "markdown",
   "metadata": {},
   "source": [
    "all cols with only 1 categorical value, can be excluded from correlation analysis - as there is no variation"
   ]
  },
  {
   "cell_type": "code",
   "execution_count": 17,
   "metadata": {},
   "outputs": [],
   "source": [
    "single_category_cols = ['i_agree_to_pay_the_amount_through_cheque','get_updates_on_dm_content', 'update_me_on_supply_chain_content', 'receive_more_updates_about_our_courses','magazine',  ]"
   ]
  },
  {
   "cell_type": "markdown",
   "metadata": {},
   "source": [
    "Checking columns with high null counts"
   ]
  },
  {
   "cell_type": "code",
   "execution_count": 18,
   "metadata": {},
   "outputs": [
    {
     "name": "stdout",
     "output_type": "stream",
     "text": [
      "<class 'pandas.core.frame.DataFrame'>\n",
      "RangeIndex: 9240 entries, 0 to 9239\n",
      "Data columns (total 33 columns):\n",
      " #   Column                                         Non-Null Count  Dtype  \n",
      "---  ------                                         --------------  -----  \n",
      " 0   lead_origin                                    9240 non-null   object \n",
      " 1   lead_source                                    9204 non-null   object \n",
      " 2   do_not_email                                   9240 non-null   object \n",
      " 3   do_not_call                                    9240 non-null   object \n",
      " 4   total_visits                                   9103 non-null   float64\n",
      " 5   total_time_spent_on_website                    9240 non-null   int64  \n",
      " 6   page_views_per_visit                           9103 non-null   float64\n",
      " 7   last_activity                                  9137 non-null   object \n",
      " 8   country                                        6779 non-null   object \n",
      " 9   specialization                                 7802 non-null   object \n",
      " 10  how_did_you_hear_about_x_education             7033 non-null   object \n",
      " 11  what_is_your_current_occupation                6550 non-null   object \n",
      " 12  what_matters_most_to_you_in_choosing_a_course  6531 non-null   object \n",
      " 13  search                                         9240 non-null   object \n",
      " 14  magazine                                       9240 non-null   object \n",
      " 15  newspaper_article                              9240 non-null   object \n",
      " 16  x_education_forums                             9240 non-null   object \n",
      " 17  newspaper                                      9240 non-null   object \n",
      " 18  digital_advertisement                          9240 non-null   object \n",
      " 19  through_recommendations                        9240 non-null   object \n",
      " 20  receive_more_updates_about_our_courses         9240 non-null   object \n",
      " 21  tags                                           5887 non-null   object \n",
      " 22  lead_quality                                   4473 non-null   object \n",
      " 23  update_me_on_supply_chain_content              9240 non-null   object \n",
      " 24  get_updates_on_dm_content                      9240 non-null   object \n",
      " 25  lead_profile                                   6531 non-null   object \n",
      " 26  city                                           7820 non-null   object \n",
      " 27  asymmetrique_activity_score                    5022 non-null   float64\n",
      " 28  asymmetrique_profile_score                     5022 non-null   float64\n",
      " 29  i_agree_to_pay_the_amount_through_cheque       9240 non-null   object \n",
      " 30  a_free_copy_of_mastering_the_interview         9240 non-null   object \n",
      " 31  last_notable_activity                          9240 non-null   object \n",
      " 32  converted                                      9240 non-null   int64  \n",
      "dtypes: float64(4), int64(2), object(27)\n",
      "memory usage: 2.3+ MB\n"
     ]
    }
   ],
   "source": [
    "df.info() # checking non-null counts from 9240 total"
   ]
  },
  {
   "cell_type": "code",
   "execution_count": 19,
   "metadata": {},
   "outputs": [
    {
     "data": {
      "text/plain": [
       "lead_origin                                         0\n",
       "lead_source                                        36\n",
       "do_not_email                                        0\n",
       "do_not_call                                         0\n",
       "total_visits                                      137\n",
       "total_time_spent_on_website                         0\n",
       "page_views_per_visit                              137\n",
       "last_activity                                     103\n",
       "country                                          2461\n",
       "specialization                                   1438\n",
       "how_did_you_hear_about_x_education               2207\n",
       "what_is_your_current_occupation                  2690\n",
       "what_matters_most_to_you_in_choosing_a_course    2709\n",
       "search                                              0\n",
       "magazine                                            0\n",
       "newspaper_article                                   0\n",
       "x_education_forums                                  0\n",
       "newspaper                                           0\n",
       "digital_advertisement                               0\n",
       "through_recommendations                             0\n",
       "receive_more_updates_about_our_courses              0\n",
       "tags                                             3353\n",
       "lead_quality                                     4767\n",
       "update_me_on_supply_chain_content                   0\n",
       "get_updates_on_dm_content                           0\n",
       "lead_profile                                     2709\n",
       "city                                             1420\n",
       "asymmetrique_activity_score                      4218\n",
       "asymmetrique_profile_score                       4218\n",
       "i_agree_to_pay_the_amount_through_cheque            0\n",
       "a_free_copy_of_mastering_the_interview              0\n",
       "last_notable_activity                               0\n",
       "converted                                           0\n",
       "dtype: int64"
      ]
     },
     "execution_count": 19,
     "metadata": {},
     "output_type": "execute_result"
    }
   ],
   "source": [
    "# Print null count of each column\n",
    "null_counts = df.isnull().sum()\n",
    "null_counts"
   ]
  },
  {
   "cell_type": "markdown",
   "metadata": {},
   "source": [
    "As mentioned in the question, data points with 'select' values - must also be viewed as null values, as drop down fields that takes a predefined set of categorical values \n",
    "in forms - will by default be set to Select - instructing the users to select an option from the list - thus by itself denotes an empty value"
   ]
  },
  {
   "cell_type": "code",
   "execution_count": 20,
   "metadata": {},
   "outputs": [],
   "source": [
    "df = df.replace(['select', 'Select'], [None, None])"
   ]
  },
  {
   "cell_type": "code",
   "execution_count": 21,
   "metadata": {},
   "outputs": [
    {
     "data": {
      "text/plain": [
       "lead_origin                                         0\n",
       "lead_source                                        36\n",
       "do_not_email                                        0\n",
       "do_not_call                                         0\n",
       "total_visits                                      137\n",
       "total_time_spent_on_website                         0\n",
       "page_views_per_visit                              137\n",
       "last_activity                                     103\n",
       "country                                          2461\n",
       "specialization                                   3380\n",
       "how_did_you_hear_about_x_education               7250\n",
       "what_is_your_current_occupation                  2690\n",
       "what_matters_most_to_you_in_choosing_a_course    2709\n",
       "search                                              0\n",
       "magazine                                            0\n",
       "newspaper_article                                   0\n",
       "x_education_forums                                  0\n",
       "newspaper                                           0\n",
       "digital_advertisement                               0\n",
       "through_recommendations                             0\n",
       "receive_more_updates_about_our_courses              0\n",
       "tags                                             3353\n",
       "lead_quality                                     4767\n",
       "update_me_on_supply_chain_content                   0\n",
       "get_updates_on_dm_content                           0\n",
       "lead_profile                                     6855\n",
       "city                                             3669\n",
       "asymmetrique_activity_score                      4218\n",
       "asymmetrique_profile_score                       4218\n",
       "i_agree_to_pay_the_amount_through_cheque            0\n",
       "a_free_copy_of_mastering_the_interview              0\n",
       "last_notable_activity                               0\n",
       "converted                                           0\n",
       "dtype: int64"
      ]
     },
     "execution_count": 21,
     "metadata": {},
     "output_type": "execute_result"
    }
   ],
   "source": [
    "# Print null count of each column\n",
    "null_counts = df.isnull().sum()\n",
    "null_counts"
   ]
  },
  {
   "cell_type": "markdown",
   "metadata": {},
   "source": [
    "specialization, how_did_you_hear_about_x_education - significantly increase, after replacing 'select' entries with null"
   ]
  },
  {
   "cell_type": "code",
   "execution_count": 22,
   "metadata": {},
   "outputs": [],
   "source": [
    "meta_df = pd.merge(df.dtypes.reset_index(), null_counts.reset_index(), on= 'index')\n",
    "meta_df.columns = ['attribute', 'dtype', 'null_count']\n"
   ]
  },
  {
   "cell_type": "code",
   "execution_count": 23,
   "metadata": {},
   "outputs": [
    {
     "data": {
      "text/plain": [
       "['lead_origin',\n",
       " 'lead_source',\n",
       " 'do_not_email',\n",
       " 'do_not_call',\n",
       " 'last_activity',\n",
       " 'country',\n",
       " 'specialization',\n",
       " 'how_did_you_hear_about_x_education',\n",
       " 'what_is_your_current_occupation',\n",
       " 'what_matters_most_to_you_in_choosing_a_course',\n",
       " 'search',\n",
       " 'magazine',\n",
       " 'newspaper_article',\n",
       " 'x_education_forums',\n",
       " 'newspaper',\n",
       " 'digital_advertisement',\n",
       " 'through_recommendations',\n",
       " 'receive_more_updates_about_our_courses',\n",
       " 'tags',\n",
       " 'lead_quality',\n",
       " 'update_me_on_supply_chain_content',\n",
       " 'get_updates_on_dm_content',\n",
       " 'lead_profile',\n",
       " 'city',\n",
       " 'asymmetrique_activity_score',\n",
       " 'asymmetrique_profile_score',\n",
       " 'i_agree_to_pay_the_amount_through_cheque',\n",
       " 'a_free_copy_of_mastering_the_interview',\n",
       " 'last_notable_activity']"
      ]
     },
     "execution_count": 23,
     "metadata": {},
     "output_type": "execute_result"
    }
   ],
   "source": [
    "high_freq_null_cat_cols = list(meta_df.loc[((meta_df['dtype'] == 'object')|(meta_df['null_count']>1000)), 'attribute'].to_numpy())\n",
    "high_freq_null_cat_cols"
   ]
  },
  {
   "cell_type": "markdown",
   "metadata": {},
   "source": [
    "As there are many string type categorical_columns - to decide which should be included in the analysis - we check the correlation with target variable - 'converter'\n",
    "\n",
    "we use cramer's v to check the association with 'converter' and if the correlation is strong - we include them in preliminary analysis"
   ]
  },
  {
   "cell_type": "markdown",
   "metadata": {},
   "source": [
    "###  Cramér's V:\n",
    "\n",
    "Interpretation:\n",
    "\n",
    "V = 0: No association.\n",
    "0 < V < 0.1: Weak association.\n",
    "0.1 <= V < 0.3: Moderate association.\n",
    "0.3 <= V < 0.5: Strong association.\n",
    "V >= 0.5: Very strong association.\n"
   ]
  },
  {
   "cell_type": "code",
   "execution_count": 24,
   "metadata": {},
   "outputs": [
    {
     "name": "stdout",
     "output_type": "stream",
     "text": [
      "Cramér's V\n"
     ]
    },
    {
     "name": "stderr",
     "output_type": "stream",
     "text": [
      "/var/folders/5p/k025km096tndpdfzbd0mhr8c0000gn/T/ipykernel_35487/4156849469.py:13: RuntimeWarning: invalid value encountered in divide\n",
      "  v = np.sqrt(chi2 / (n * (min(contingency_table.shape) - 1)))\n",
      "/var/folders/5p/k025km096tndpdfzbd0mhr8c0000gn/T/ipykernel_35487/4156849469.py:13: RuntimeWarning: invalid value encountered in divide\n",
      "  v = np.sqrt(chi2 / (n * (min(contingency_table.shape) - 1)))\n",
      "/var/folders/5p/k025km096tndpdfzbd0mhr8c0000gn/T/ipykernel_35487/4156849469.py:13: RuntimeWarning: invalid value encountered in divide\n",
      "  v = np.sqrt(chi2 / (n * (min(contingency_table.shape) - 1)))\n",
      "/var/folders/5p/k025km096tndpdfzbd0mhr8c0000gn/T/ipykernel_35487/4156849469.py:13: RuntimeWarning: invalid value encountered in divide\n",
      "  v = np.sqrt(chi2 / (n * (min(contingency_table.shape) - 1)))\n",
      "/var/folders/5p/k025km096tndpdfzbd0mhr8c0000gn/T/ipykernel_35487/4156849469.py:13: RuntimeWarning: invalid value encountered in divide\n",
      "  v = np.sqrt(chi2 / (n * (min(contingency_table.shape) - 1)))\n"
     ]
    }
   ],
   "source": [
    "from scipy.stats import chi2_contingency\n",
    "cramers_coefficient = []\n",
    "# Create a contingency table\n",
    "print(f\"Cramér's V\")\n",
    "high_freq_null_cat_cols\n",
    "for col in df.columns:\n",
    "    contingency_table = pd.crosstab(df['converted'], df[col])\n",
    "\n",
    "    # Perform the chi-square test for independence\n",
    "    chi2, _, _, _ = chi2_contingency(contingency_table)\n",
    "    # Calculate Cramér's V\n",
    "    n = contingency_table.sum().sum()\n",
    "    v = np.sqrt(chi2 / (n * (min(contingency_table.shape) - 1)))\n",
    "    cramers_coefficient.append({'col': col,'value': v})\n",
    "    \n"
   ]
  },
  {
   "cell_type": "code",
   "execution_count": 25,
   "metadata": {},
   "outputs": [
    {
     "data": {
      "text/html": [
       "<div>\n",
       "<style scoped>\n",
       "    .dataframe tbody tr th:only-of-type {\n",
       "        vertical-align: middle;\n",
       "    }\n",
       "\n",
       "    .dataframe tbody tr th {\n",
       "        vertical-align: top;\n",
       "    }\n",
       "\n",
       "    .dataframe thead th {\n",
       "        text-align: right;\n",
       "    }\n",
       "</style>\n",
       "<table border=\"1\" class=\"dataframe\">\n",
       "  <thead>\n",
       "    <tr style=\"text-align: right;\">\n",
       "      <th></th>\n",
       "      <th>col</th>\n",
       "      <th>value</th>\n",
       "    </tr>\n",
       "  </thead>\n",
       "  <tbody>\n",
       "    <tr>\n",
       "      <th>5</th>\n",
       "      <td>total_time_spent_on_website</td>\n",
       "      <td>0.615267</td>\n",
       "    </tr>\n",
       "    <tr>\n",
       "      <th>21</th>\n",
       "      <td>tags</td>\n",
       "      <td>0.933534</td>\n",
       "    </tr>\n",
       "    <tr>\n",
       "      <th>22</th>\n",
       "      <td>lead_quality</td>\n",
       "      <td>0.659945</td>\n",
       "    </tr>\n",
       "    <tr>\n",
       "      <th>25</th>\n",
       "      <td>lead_profile</td>\n",
       "      <td>0.539347</td>\n",
       "    </tr>\n",
       "    <tr>\n",
       "      <th>32</th>\n",
       "      <td>converted</td>\n",
       "      <td>0.999772</td>\n",
       "    </tr>\n",
       "  </tbody>\n",
       "</table>\n",
       "</div>"
      ],
      "text/plain": [
       "                            col     value\n",
       "5   total_time_spent_on_website  0.615267\n",
       "21                         tags  0.933534\n",
       "22                 lead_quality  0.659945\n",
       "25                 lead_profile  0.539347\n",
       "32                    converted  0.999772"
      ]
     },
     "execution_count": 25,
     "metadata": {},
     "output_type": "execute_result"
    }
   ],
   "source": [
    "cat_corr_df = pd.DataFrame(cramers_coefficient)\n",
    "cat_corr_df.loc[((cat_corr_df['value']>=0.5)|(cat_corr_df['value']<=-0.5))]\n"
   ]
  },
  {
   "cell_type": "code",
   "execution_count": 26,
   "metadata": {},
   "outputs": [
    {
     "data": {
      "text/plain": [
       "array(['magazine', 'receive_more_updates_about_our_courses',\n",
       "       'update_me_on_supply_chain_content', 'get_updates_on_dm_content',\n",
       "       'i_agree_to_pay_the_amount_through_cheque'], dtype=object)"
      ]
     },
     "execution_count": 26,
     "metadata": {},
     "output_type": "execute_result"
    }
   ],
   "source": [
    "cat_corr_df.loc[cat_corr_df['value'].isnull()==True,'col'].to_numpy()"
   ]
  },
  {
   "cell_type": "code",
   "execution_count": 27,
   "metadata": {},
   "outputs": [
    {
     "data": {
      "text/plain": [
       "magazine  receive_more_updates_about_our_courses  update_me_on_supply_chain_content  get_updates_on_dm_content  i_agree_to_pay_the_amount_through_cheque\n",
       "No        No                                      No                                 No                         No                                          9240\n",
       "dtype: int64"
      ]
     },
     "execution_count": 27,
     "metadata": {},
     "output_type": "execute_result"
    }
   ],
   "source": [
    "df.groupby(['magazine', 'receive_more_updates_about_our_courses',\n",
    "       'update_me_on_supply_chain_content', 'get_updates_on_dm_content',\n",
    "       'i_agree_to_pay_the_amount_through_cheque'], dropna=False).size()"
   ]
  },
  {
   "cell_type": "markdown",
   "metadata": {},
   "source": [
    "clearly ['magazine', 'receive_more_updates_about_our_courses',\n",
    "       'update_me_on_supply_chain_content', 'get_updates_on_dm_content',\n",
    "       'i_agree_to_pay_the_amount_through_cheque']  - cols only have 1 value and can be removed"
   ]
  },
  {
   "cell_type": "markdown",
   "metadata": {},
   "source": [
    "Strong to moderately correlated with 'converted' class  -  ```tags, lead_quality, total_time_spent_on_website, lead_profile```"
   ]
  },
  {
   "cell_type": "markdown",
   "metadata": {},
   "source": [
    "### Point-Biserial Correlation Coefficient:\n",
    "\n",
    "Interpretation:\n",
    "\n",
    "r = 0: No correlation.\n",
    "0 < r < 0.1: Weak correlation.\n",
    "0.1 <= r < 0.3: Moderate correlation.\n",
    "0.3 <= r < 0.5: Strong correlation.\n",
    "r >= 0.5: Very strong correlation.\n",
    "\n",
    "\n",
    "For P-Value, generally p-value < 0.05 implies the correlation is statistically significant"
   ]
  },
  {
   "cell_type": "code",
   "execution_count": 28,
   "metadata": {},
   "outputs": [
    {
     "name": "stdout",
     "output_type": "stream",
     "text": [
      "Point-Biserial Correlation for \n",
      "lead_origin: 0.2237246844699315\n",
      "lead_source: 0.1806024714315296\n",
      "do_not_email: -0.13558033576518402\n",
      "do_not_call: 0.018581294489187574\n",
      "total_visits: 0.0926324022810913\n",
      "total_time_spent_on_website: 0.3594653606058068\n",
      "page_views_per_visit: 0.030744012270987497\n",
      "last_activity: 0.24707523981776106\n",
      "country: 0.05623483867710549\n",
      "specialization: -0.14551657655340744\n",
      "how_did_you_hear_about_x_education: -0.0855971203854077\n",
      "what_is_your_current_occupation: -0.23156473312980677\n",
      "what_matters_most_to_you_in_choosing_a_course: -0.32935037509521237\n",
      "search: -0.0022608714978630652\n",
      "magazine: nan\n",
      "newspaper_article: 0.0034649746194834142\n",
      "x_education_forums: -0.008238299356505992\n",
      "newspaper: -0.00823829935650515\n",
      "digital_advertisement: -0.00578926489968575\n",
      "through_recommendations: 0.01860742945372032\n",
      "receive_more_updates_about_our_courses: nan\n",
      "tags: 0.00623337568269327\n",
      "lead_quality: -0.530143729611865\n",
      "update_me_on_supply_chain_content: nan\n",
      "get_updates_on_dm_content: nan\n",
      "lead_profile: -0.35618373163088174\n",
      "city: -0.08328458520343096\n",
      "asymmetrique_activity_score: 0.06068963477154184\n",
      "asymmetrique_profile_score: 0.0908058084505173\n",
      "i_agree_to_pay_the_amount_through_cheque: nan\n",
      "a_free_copy_of_mastering_the_interview: -0.03982002093683819\n",
      "last_notable_activity: 0.21044498040573836\n",
      "converted: 1.0\n"
     ]
    },
    {
     "name": "stderr",
     "output_type": "stream",
     "text": [
      "/Users/varshinibalaji/Documents/DSProjects/hot_leads_predictor/hot_leads_predictor_env/lib/python3.11/site-packages/scipy/stats/_stats_py.py:4781: ConstantInputWarning: An input array is constant; the correlation coefficient is not defined.\n",
      "  warnings.warn(stats.ConstantInputWarning(msg))\n",
      "/Users/varshinibalaji/Documents/DSProjects/hot_leads_predictor/hot_leads_predictor_env/lib/python3.11/site-packages/scipy/stats/_stats_py.py:4781: ConstantInputWarning: An input array is constant; the correlation coefficient is not defined.\n",
      "  warnings.warn(stats.ConstantInputWarning(msg))\n",
      "/Users/varshinibalaji/Documents/DSProjects/hot_leads_predictor/hot_leads_predictor_env/lib/python3.11/site-packages/scipy/stats/_stats_py.py:4781: ConstantInputWarning: An input array is constant; the correlation coefficient is not defined.\n",
      "  warnings.warn(stats.ConstantInputWarning(msg))\n",
      "/Users/varshinibalaji/Documents/DSProjects/hot_leads_predictor/hot_leads_predictor_env/lib/python3.11/site-packages/scipy/stats/_stats_py.py:4781: ConstantInputWarning: An input array is constant; the correlation coefficient is not defined.\n",
      "  warnings.warn(stats.ConstantInputWarning(msg))\n",
      "/Users/varshinibalaji/Documents/DSProjects/hot_leads_predictor/hot_leads_predictor_env/lib/python3.11/site-packages/scipy/stats/_stats_py.py:4781: ConstantInputWarning: An input array is constant; the correlation coefficient is not defined.\n",
      "  warnings.warn(stats.ConstantInputWarning(msg))\n"
     ]
    }
   ],
   "source": [
    "from scipy.stats import pointbiserialr\n",
    "from sklearn.preprocessing import LabelEncoder\n",
    "\n",
    "analysis_df = df.copy()\n",
    "pointbiserialr_dict = []\n",
    "# Initialize LabelEncoder\n",
    "label_encoder = LabelEncoder()\n",
    "print(f\"Point-Biserial Correlation for \")\n",
    "# Iterate over categorical columns\n",
    "for col in df.columns:\n",
    "    # Use label encoding to convert strings to numeric values\n",
    "    analysis_df[col] = label_encoder.fit_transform(analysis_df[col])\n",
    "    \n",
    "    # Calculate point-biserial correlation\n",
    "    correlation, p_value = pointbiserialr(analysis_df['converted'], analysis_df[col])\n",
    "\n",
    "    print(f\"{col}: {correlation}\")\n",
    "    pointbiserialr_dict.append({'col': col, 'correlation': correlation})\n",
    "    # print(f\"P-Value for {col}: {p_value}\") \n",
    "pointbiserialr_df = pd.DataFrame(pointbiserialr_dict)"
   ]
  },
  {
   "cell_type": "code",
   "execution_count": 29,
   "metadata": {},
   "outputs": [
    {
     "data": {
      "text/html": [
       "<div>\n",
       "<style scoped>\n",
       "    .dataframe tbody tr th:only-of-type {\n",
       "        vertical-align: middle;\n",
       "    }\n",
       "\n",
       "    .dataframe tbody tr th {\n",
       "        vertical-align: top;\n",
       "    }\n",
       "\n",
       "    .dataframe thead th {\n",
       "        text-align: right;\n",
       "    }\n",
       "</style>\n",
       "<table border=\"1\" class=\"dataframe\">\n",
       "  <thead>\n",
       "    <tr style=\"text-align: right;\">\n",
       "      <th></th>\n",
       "      <th>col</th>\n",
       "      <th>correlation</th>\n",
       "    </tr>\n",
       "  </thead>\n",
       "  <tbody>\n",
       "  </tbody>\n",
       "</table>\n",
       "</div>"
      ],
      "text/plain": [
       "Empty DataFrame\n",
       "Columns: [col, correlation]\n",
       "Index: []"
      ]
     },
     "execution_count": 29,
     "metadata": {},
     "output_type": "execute_result"
    }
   ],
   "source": [
    "pointbiserialr_df.loc[((pointbiserialr_df['correlation']>=0.5)&(pointbiserialr_df['correlation']<=0.5))]"
   ]
  },
  {
   "cell_type": "markdown",
   "metadata": {},
   "source": [
    "```\n",
    "p-value can't be used here as label encoder can be misleading the values with numeric labels # TODO check\n",
    "which may create an artificial sense of order or magnitude that does not necessarily reflect the true relationship between categories.\n",
    "The p-value is dependent on the assumption that the variables being compared are continuous and normally distributed. \n",
    "When you use label encoding for categorical variables, you might violate these assumptions, and \n",
    "the p-value may not accurately reflect the statistical significance of the relationship.\n",
    "```\n",
    "\n",
    "\n",
    "\n"
   ]
  },
  {
   "cell_type": "code",
   "execution_count": 30,
   "metadata": {},
   "outputs": [
    {
     "name": "stdout",
     "output_type": "stream",
     "text": [
      "Correlation with 'asymmetrique_activity_score': 0.16796168715266496\n",
      "Correlation with 'asymmetrique_profile_score': 0.2185711166992058\n"
     ]
    }
   ],
   "source": [
    "correlation_activity = df['asymmetrique_activity_score'].corr(df['converted'])\n",
    "correlation_profile = df['asymmetrique_profile_score'].corr(df['converted'])\n",
    "\n",
    "print(f\"Correlation with 'asymmetrique_activity_score': {correlation_activity}\")\n",
    "print(f\"Correlation with 'asymmetrique_profile_score': {correlation_profile}\")\n"
   ]
  },
  {
   "cell_type": "markdown",
   "metadata": {},
   "source": [
    "also 'lead_origin', 'lead_source'  - are unique identifiers not relevant to correlation analysism"
   ]
  },
  {
   "cell_type": "markdown",
   "metadata": {},
   "source": [
    "Strong to moderate correlation - ```lead_quality, lead_profile, what_matters_most_to_you_in_choosing_a_course```"
   ]
  },
  {
   "cell_type": "code",
   "execution_count": 31,
   "metadata": {},
   "outputs": [
    {
     "data": {
      "text/plain": [
       "['lead_origin',\n",
       " 'lead_source',\n",
       " 'asymmetrique_activity_score',\n",
       " 'asymmetrique_profile_score',\n",
       " 'i_agree_to_pay_the_amount_through_cheque',\n",
       " 'get_updates_on_dm_content',\n",
       " 'update_me_on_supply_chain_content',\n",
       " 'receive_more_updates_about_our_courses',\n",
       " 'magazine',\n",
       " 'update_me_on_supply_chain_content',\n",
       " 'do_not_email',\n",
       " 'receive_more_updates_about_our_courses',\n",
       " 'newspaper',\n",
       " 'digital_advertisement',\n",
       " 'last_notable_activity',\n",
       " 'how_did_you_hear_about_x_education',\n",
       " 'search',\n",
       " 'country',\n",
       " 'specialization',\n",
       " 'asymmetrique_profile_score',\n",
       " 'city',\n",
       " 'asymmetrique_activity_score',\n",
       " 'through_recommendations',\n",
       " 'i_agree_to_pay_the_amount_through_cheque',\n",
       " 'a_free_copy_of_mastering_the_interview',\n",
       " 'x_education_forums',\n",
       " 'lead_source',\n",
       " 'newspaper_article',\n",
       " 'what_is_your_current_occupation',\n",
       " 'magazine',\n",
       " 'last_activity',\n",
       " 'get_updates_on_dm_content',\n",
       " 'lead_origin',\n",
       " 'do_not_call']"
      ]
     },
     "execution_count": 31,
     "metadata": {},
     "output_type": "execute_result"
    }
   ],
   "source": [
    "cols_to_remove = ['lead_origin', 'lead_source'] + ['asymmetrique_activity_score',\n",
    "       'asymmetrique_profile_score'] + single_category_cols + list(set(high_freq_null_cat_cols) - set(['tags', 'total_time_spent_on_website', 'lead_quality', 'lead_profile', 'what_matters_most_to_you_in_choosing_a_course']))\n",
    "cols_to_remove"
   ]
  },
  {
   "cell_type": "code",
   "execution_count": 32,
   "metadata": {},
   "outputs": [
    {
     "data": {
      "text/plain": [
       "['lead_profile',\n",
       " 'tags',\n",
       " 'converted',\n",
       " 'lead_quality',\n",
       " 'page_views_per_visit',\n",
       " 'total_visits',\n",
       " 'what_matters_most_to_you_in_choosing_a_course',\n",
       " 'total_time_spent_on_website']"
      ]
     },
     "execution_count": 32,
     "metadata": {},
     "output_type": "execute_result"
    }
   ],
   "source": [
    "list(set(df.columns) - set(cols_to_remove))"
   ]
  },
  {
   "cell_type": "code",
   "execution_count": 33,
   "metadata": {},
   "outputs": [
    {
     "data": {
      "text/plain": [
       "(9240, 8)"
      ]
     },
     "execution_count": 33,
     "metadata": {},
     "output_type": "execute_result"
    }
   ],
   "source": [
    "analysis_df = df[list(set(df.columns) - set(cols_to_remove))]\n",
    "analysis_df.shape"
   ]
  },
  {
   "cell_type": "markdown",
   "metadata": {},
   "source": [
    "```\n",
    "Variables\tDescription\n",
    "Prospect ID\tA unique ID with which the customer is identified.\n",
    "Lead Number\tA lead number assigned to each lead procured.\n",
    "Lead Origin\tThe origin identifier with which the customer was identified to be a lead. Includes API, Landing Page Submission, etc.\n",
    "Lead Source\tThe source of the lead. Includes Google, Organic Search, Olark Chat, etc.\n",
    "Do Not Email\tAn indicator variable selected by the customer wherein they select whether of not they want to be emailed about the course or not.\n",
    "Do Not Call\tAn indicator variable selected by the customer wherein they select whether of not they want to be called about the course or not.\n",
    "Converted\tThe target variable. Indicates whether a lead has been successfully converted or not.\n",
    "TotalVisits\tThe total number of visits made by the customer on the website.\n",
    "Total Time Spent on Website\tThe total time spent by the customer on the website.\n",
    "Page Views Per Visit\tAverage number of pages on the website viewed during the visits.\n",
    "Last Activity\tLast activity performed by the customer. Includes Email Opened, Olark Chat Conversation, etc.\n",
    "Country\tThe country of the customer.\n",
    "Specialization\tThe industry domain in which the customer worked before. Includes the level 'Select Specialization' which means the customer had not selected this option while filling the form.\n",
    "How did you hear about X Education\tThe source from which the customer heard about X Education.\n",
    "What is your current occupation\tIndicates whether the customer is a student, umemployed or employed.\n",
    "What matters most to you in choosing this course\tAn option selected by the customer indicating what is their main motto behind doing this course.\n",
    "Search\tIndicating whether the customer had seen the ad in any of the listed items.\n",
    "Magazine\t\n",
    "Newspaper Article\t\n",
    "X Education Forums\t\n",
    "Newspaper\t\n",
    "Digital Advertisement\t\n",
    "Through Recommendations\tIndicates whether the customer came in through recommendations.\n",
    "Receive More Updates About Our Courses\tIndicates whether the customer chose to receive more updates about the courses.\n",
    "Tags\tTags assigned to customers indicating the current status of the lead.\n",
    "Lead Quality\tIndicates the quality of lead based on the data and intuition the the employee who has been assigned to the lead.\n",
    "Update me on Supply Chain Content\tIndicates whether the customer wants updates on the Supply Chain Content.\n",
    "Get updates on DM Content\tIndicates whether the customer wants updates on the DM Content.\n",
    "Lead Profile\tA lead level assigned to each customer based on their profile.\n",
    "City\tThe city of the customer.\n",
    "Asymmetrique Activity Index\tAn index and score assigned to each customer based on their activity and their profile\n",
    "Asymmetrique Profile Index\t\n",
    "Asymmetrique Activity Score\t\n",
    "Asymmetrique Profile Score\t\n",
    "I agree to pay the amount through cheque\tIndicates whether the customer has agreed to pay the amount through cheque or not.\n",
    "a free copy of Mastering The Interview\tIndicates whether the customer wants a free copy of 'Mastering the Interview' or not.\n",
    "Last Notable Activity\tThe last notable acitivity performed by the student.\n",
    "\n",
    "```\n"
   ]
  },
  {
   "cell_type": "code",
   "execution_count": 34,
   "metadata": {},
   "outputs": [],
   "source": [
    "undescribed_cols  = ['newspaper_article', 'newspaper', 'x_education_forums']"
   ]
  },
  {
   "cell_type": "code",
   "execution_count": 35,
   "metadata": {},
   "outputs": [
    {
     "data": {
      "text/plain": [
       "Index(['lead_profile', 'tags', 'converted', 'lead_quality',\n",
       "       'page_views_per_visit', 'total_visits',\n",
       "       'what_matters_most_to_you_in_choosing_a_course',\n",
       "       'total_time_spent_on_website'],\n",
       "      dtype='object')"
      ]
     },
     "execution_count": 35,
     "metadata": {},
     "output_type": "execute_result"
    }
   ],
   "source": [
    "analysis_df.columns"
   ]
  },
  {
   "cell_type": "code",
   "execution_count": 36,
   "metadata": {},
   "outputs": [
    {
     "data": {
      "text/html": [
       "<div>\n",
       "<style scoped>\n",
       "    .dataframe tbody tr th:only-of-type {\n",
       "        vertical-align: middle;\n",
       "    }\n",
       "\n",
       "    .dataframe tbody tr th {\n",
       "        vertical-align: top;\n",
       "    }\n",
       "\n",
       "    .dataframe thead th {\n",
       "        text-align: right;\n",
       "    }\n",
       "</style>\n",
       "<table border=\"1\" class=\"dataframe\">\n",
       "  <thead>\n",
       "    <tr style=\"text-align: right;\">\n",
       "      <th></th>\n",
       "      <th>what_matters_most_to_you_in_choosing_a_course</th>\n",
       "      <th>total_visits</th>\n",
       "      <th>lead_profile</th>\n",
       "      <th>tags</th>\n",
       "      <th>total_time_spent_on_website</th>\n",
       "      <th>page_views_per_visit</th>\n",
       "      <th>lead_quality</th>\n",
       "      <th>converted</th>\n",
       "    </tr>\n",
       "  </thead>\n",
       "  <tbody>\n",
       "    <tr>\n",
       "      <th>0</th>\n",
       "      <td>Better Career Prospects</td>\n",
       "      <td>0.0</td>\n",
       "      <td>None</td>\n",
       "      <td>Interested in other courses</td>\n",
       "      <td>0</td>\n",
       "      <td>0.0</td>\n",
       "      <td>Low in Relevance</td>\n",
       "      <td>0</td>\n",
       "    </tr>\n",
       "    <tr>\n",
       "      <th>1</th>\n",
       "      <td>Better Career Prospects</td>\n",
       "      <td>5.0</td>\n",
       "      <td>None</td>\n",
       "      <td>Ringing</td>\n",
       "      <td>674</td>\n",
       "      <td>2.5</td>\n",
       "      <td>NaN</td>\n",
       "      <td>0</td>\n",
       "    </tr>\n",
       "    <tr>\n",
       "      <th>2</th>\n",
       "      <td>Better Career Prospects</td>\n",
       "      <td>2.0</td>\n",
       "      <td>Potential Lead</td>\n",
       "      <td>Will revert after reading the email</td>\n",
       "      <td>1532</td>\n",
       "      <td>2.0</td>\n",
       "      <td>Might be</td>\n",
       "      <td>1</td>\n",
       "    </tr>\n",
       "    <tr>\n",
       "      <th>3</th>\n",
       "      <td>Better Career Prospects</td>\n",
       "      <td>1.0</td>\n",
       "      <td>None</td>\n",
       "      <td>Ringing</td>\n",
       "      <td>305</td>\n",
       "      <td>1.0</td>\n",
       "      <td>Not Sure</td>\n",
       "      <td>0</td>\n",
       "    </tr>\n",
       "    <tr>\n",
       "      <th>4</th>\n",
       "      <td>Better Career Prospects</td>\n",
       "      <td>2.0</td>\n",
       "      <td>None</td>\n",
       "      <td>Will revert after reading the email</td>\n",
       "      <td>1428</td>\n",
       "      <td>1.0</td>\n",
       "      <td>Might be</td>\n",
       "      <td>1</td>\n",
       "    </tr>\n",
       "  </tbody>\n",
       "</table>\n",
       "</div>"
      ],
      "text/plain": [
       "  what_matters_most_to_you_in_choosing_a_course  total_visits    lead_profile  \\\n",
       "0                       Better Career Prospects           0.0            None   \n",
       "1                       Better Career Prospects           5.0            None   \n",
       "2                       Better Career Prospects           2.0  Potential Lead   \n",
       "3                       Better Career Prospects           1.0            None   \n",
       "4                       Better Career Prospects           2.0            None   \n",
       "\n",
       "                                  tags  total_time_spent_on_website  \\\n",
       "0          Interested in other courses                            0   \n",
       "1                              Ringing                          674   \n",
       "2  Will revert after reading the email                         1532   \n",
       "3                              Ringing                          305   \n",
       "4  Will revert after reading the email                         1428   \n",
       "\n",
       "   page_views_per_visit      lead_quality  converted  \n",
       "0                   0.0  Low in Relevance          0  \n",
       "1                   2.5               NaN          0  \n",
       "2                   2.0          Might be          1  \n",
       "3                   1.0          Not Sure          0  \n",
       "4                   1.0          Might be          1  "
      ]
     },
     "execution_count": 36,
     "metadata": {},
     "output_type": "execute_result"
    }
   ],
   "source": [
    "analysis_df = analysis_df[['what_matters_most_to_you_in_choosing_a_course',\n",
    "       'total_visits', 'lead_profile', 'tags', 'total_time_spent_on_website',\n",
    "       'page_views_per_visit', 'lead_quality', 'converted']]\n",
    "\n",
    "analysis_df.head()"
   ]
  },
  {
   "cell_type": "code",
   "execution_count": 37,
   "metadata": {},
   "outputs": [
    {
     "data": {
      "text/plain": [
       "newspaper_article  newspaper  x_education_forums\n",
       "No                 No         No                    9237\n",
       "                   Yes        No                       1\n",
       "Yes                No         No                       1\n",
       "                              Yes                      1\n",
       "dtype: int64"
      ]
     },
     "execution_count": 37,
     "metadata": {},
     "output_type": "execute_result"
    }
   ],
   "source": [
    "df.groupby(undescribed_cols).size()"
   ]
  },
  {
   "cell_type": "code",
   "execution_count": 38,
   "metadata": {},
   "outputs": [
    {
     "data": {
      "text/plain": [
       "newspaper\n",
       "No     9239\n",
       "Yes       1\n",
       "dtype: int64"
      ]
     },
     "execution_count": 38,
     "metadata": {},
     "output_type": "execute_result"
    }
   ],
   "source": [
    "df.groupby('newspaper').size()"
   ]
  },
  {
   "cell_type": "code",
   "execution_count": 39,
   "metadata": {},
   "outputs": [
    {
     "data": {
      "text/plain": [
       "x_education_forums\n",
       "No     9239\n",
       "Yes       1\n",
       "dtype: int64"
      ]
     },
     "execution_count": 39,
     "metadata": {},
     "output_type": "execute_result"
    }
   ],
   "source": [
    "df.groupby('x_education_forums').size()"
   ]
  },
  {
   "cell_type": "markdown",
   "metadata": {},
   "source": [
    "as there is only 1 instance of another class - 'newspaper', 'x_education_forums' - can also be dropped "
   ]
  },
  {
   "cell_type": "code",
   "execution_count": 40,
   "metadata": {},
   "outputs": [],
   "source": [
    "try:\n",
    "    del analysis_df['newspaper']\n",
    "except KeyError:\n",
    "    pass\n",
    "try:\n",
    "    del analysis_df['x_education_forums']\n",
    "except KeyError:\n",
    "    pass"
   ]
  },
  {
   "cell_type": "code",
   "execution_count": 41,
   "metadata": {},
   "outputs": [
    {
     "data": {
      "text/html": [
       "<div>\n",
       "<style scoped>\n",
       "    .dataframe tbody tr th:only-of-type {\n",
       "        vertical-align: middle;\n",
       "    }\n",
       "\n",
       "    .dataframe tbody tr th {\n",
       "        vertical-align: top;\n",
       "    }\n",
       "\n",
       "    .dataframe thead th {\n",
       "        text-align: right;\n",
       "    }\n",
       "</style>\n",
       "<table border=\"1\" class=\"dataframe\">\n",
       "  <thead>\n",
       "    <tr style=\"text-align: right;\">\n",
       "      <th></th>\n",
       "      <th>what_matters_most_to_you_in_choosing_a_course</th>\n",
       "      <th>total_visits</th>\n",
       "      <th>lead_profile</th>\n",
       "      <th>tags</th>\n",
       "      <th>total_time_spent_on_website</th>\n",
       "      <th>page_views_per_visit</th>\n",
       "      <th>lead_quality</th>\n",
       "      <th>converted</th>\n",
       "    </tr>\n",
       "  </thead>\n",
       "  <tbody>\n",
       "    <tr>\n",
       "      <th>0</th>\n",
       "      <td>Better Career Prospects</td>\n",
       "      <td>0.0</td>\n",
       "      <td>None</td>\n",
       "      <td>Interested in other courses</td>\n",
       "      <td>0</td>\n",
       "      <td>0.0</td>\n",
       "      <td>Low in Relevance</td>\n",
       "      <td>0</td>\n",
       "    </tr>\n",
       "    <tr>\n",
       "      <th>1</th>\n",
       "      <td>Better Career Prospects</td>\n",
       "      <td>5.0</td>\n",
       "      <td>None</td>\n",
       "      <td>Ringing</td>\n",
       "      <td>674</td>\n",
       "      <td>2.5</td>\n",
       "      <td>NaN</td>\n",
       "      <td>0</td>\n",
       "    </tr>\n",
       "    <tr>\n",
       "      <th>2</th>\n",
       "      <td>Better Career Prospects</td>\n",
       "      <td>2.0</td>\n",
       "      <td>Potential Lead</td>\n",
       "      <td>Will revert after reading the email</td>\n",
       "      <td>1532</td>\n",
       "      <td>2.0</td>\n",
       "      <td>Might be</td>\n",
       "      <td>1</td>\n",
       "    </tr>\n",
       "    <tr>\n",
       "      <th>3</th>\n",
       "      <td>Better Career Prospects</td>\n",
       "      <td>1.0</td>\n",
       "      <td>None</td>\n",
       "      <td>Ringing</td>\n",
       "      <td>305</td>\n",
       "      <td>1.0</td>\n",
       "      <td>Not Sure</td>\n",
       "      <td>0</td>\n",
       "    </tr>\n",
       "    <tr>\n",
       "      <th>4</th>\n",
       "      <td>Better Career Prospects</td>\n",
       "      <td>2.0</td>\n",
       "      <td>None</td>\n",
       "      <td>Will revert after reading the email</td>\n",
       "      <td>1428</td>\n",
       "      <td>1.0</td>\n",
       "      <td>Might be</td>\n",
       "      <td>1</td>\n",
       "    </tr>\n",
       "  </tbody>\n",
       "</table>\n",
       "</div>"
      ],
      "text/plain": [
       "  what_matters_most_to_you_in_choosing_a_course  total_visits    lead_profile  \\\n",
       "0                       Better Career Prospects           0.0            None   \n",
       "1                       Better Career Prospects           5.0            None   \n",
       "2                       Better Career Prospects           2.0  Potential Lead   \n",
       "3                       Better Career Prospects           1.0            None   \n",
       "4                       Better Career Prospects           2.0            None   \n",
       "\n",
       "                                  tags  total_time_spent_on_website  \\\n",
       "0          Interested in other courses                            0   \n",
       "1                              Ringing                          674   \n",
       "2  Will revert after reading the email                         1532   \n",
       "3                              Ringing                          305   \n",
       "4  Will revert after reading the email                         1428   \n",
       "\n",
       "   page_views_per_visit      lead_quality  converted  \n",
       "0                   0.0  Low in Relevance          0  \n",
       "1                   2.5               NaN          0  \n",
       "2                   2.0          Might be          1  \n",
       "3                   1.0          Not Sure          0  \n",
       "4                   1.0          Might be          1  "
      ]
     },
     "execution_count": 41,
     "metadata": {},
     "output_type": "execute_result"
    }
   ],
   "source": [
    "analysis_df.head()"
   ]
  },
  {
   "cell_type": "code",
   "execution_count": 42,
   "metadata": {},
   "outputs": [
    {
     "data": {
      "text/plain": [
       "what_matters_most_to_you_in_choosing_a_course    2709\n",
       "total_visits                                      137\n",
       "lead_profile                                     6855\n",
       "tags                                             3353\n",
       "total_time_spent_on_website                         0\n",
       "page_views_per_visit                              137\n",
       "lead_quality                                     4767\n",
       "converted                                           0\n",
       "dtype: int64"
      ]
     },
     "execution_count": 42,
     "metadata": {},
     "output_type": "execute_result"
    }
   ],
   "source": [
    "analysis_df.isnull().sum()"
   ]
  },
  {
   "cell_type": "code",
   "execution_count": 43,
   "metadata": {},
   "outputs": [
    {
     "data": {
      "text/plain": [
       "lead_quality       converted\n",
       "High in Relevance  0              34\n",
       "                   1             603\n",
       "Low in Relevance   0             106\n",
       "                   1             477\n",
       "Might be           0             381\n",
       "                   1            1179\n",
       "Not Sure           0             826\n",
       "                   1             266\n",
       "Worst              0             589\n",
       "                   1              12\n",
       "NaN                0            3743\n",
       "                   1            1024\n",
       "dtype: int64"
      ]
     },
     "execution_count": 43,
     "metadata": {},
     "output_type": "execute_result"
    }
   ],
   "source": [
    "analysis_df.groupby(['lead_quality', 'converted'], dropna=False).size()"
   ]
  },
  {
   "cell_type": "markdown",
   "metadata": {},
   "source": [
    "Missing Lead quality records can be set - Not Sure - as it represents the ambiguity of lead quality in None values"
   ]
  },
  {
   "cell_type": "code",
   "execution_count": 44,
   "metadata": {},
   "outputs": [
    {
     "data": {
      "text/plain": [
       "lead_quality       converted\n",
       "High in Relevance  0              34\n",
       "                   1             603\n",
       "Low in Relevance   0             106\n",
       "                   1             477\n",
       "Might be           0             381\n",
       "                   1            1179\n",
       "Not Sure           0            4569\n",
       "                   1            1290\n",
       "Worst              0             589\n",
       "                   1              12\n",
       "dtype: int64"
      ]
     },
     "execution_count": 44,
     "metadata": {},
     "output_type": "execute_result"
    }
   ],
   "source": [
    "analysis_df.loc[analysis_df['lead_quality'].isnull()==True, 'lead_quality'] = 'Not Sure'\n",
    "\n",
    "analysis_df.groupby(['lead_quality', 'converted'], dropna=False).size()"
   ]
  },
  {
   "cell_type": "code",
   "execution_count": 45,
   "metadata": {},
   "outputs": [
    {
     "data": {
      "text/plain": [
       "lead_profile                 converted\n",
       "Dual Specialization Student  1              20\n",
       "Lateral Student              0               1\n",
       "                             1              23\n",
       "Other Leads                  0             307\n",
       "                             1             180\n",
       "Potential Lead               0             346\n",
       "                             1            1267\n",
       "Student of SomeSchool        0             232\n",
       "                             1               9\n",
       "NaN                          0            4793\n",
       "                             1            2062\n",
       "dtype: int64"
      ]
     },
     "execution_count": 45,
     "metadata": {},
     "output_type": "execute_result"
    }
   ],
   "source": [
    "analysis_df.groupby(['lead_profile', 'converted'], dropna=False).size()"
   ]
  },
  {
   "cell_type": "markdown",
   "metadata": {},
   "source": [
    "cases where lead_quality is missing - nothing can be inferred about the lead_profile type - here, using 'other leads' as default would be wrong, as that would imply that the lead's profile is not one of the other options - which is definitively excluding, while we can't be sure, as these are simply cases without user's responsem"
   ]
  },
  {
   "cell_type": "code",
   "execution_count": 46,
   "metadata": {},
   "outputs": [
    {
     "data": {
      "text/plain": [
       "what_matters_most_to_you_in_choosing_a_course  converted\n",
       "Better Career Prospects                        0            3338\n",
       "                                               1            3190\n",
       "Flexibility & Convenience                      0               1\n",
       "                                               1               1\n",
       "Other                                          0               1\n",
       "NaN                                            0            2339\n",
       "                                               1             370\n",
       "dtype: int64"
      ]
     },
     "execution_count": 46,
     "metadata": {},
     "output_type": "execute_result"
    }
   ],
   "source": [
    "analysis_df.groupby(['what_matters_most_to_you_in_choosing_a_course', 'converted'], dropna=False).size()"
   ]
  },
  {
   "cell_type": "markdown",
   "metadata": {},
   "source": [
    "cases where what_matters_most_to_you_in_choosing_a_course is missing - nothing can be inferred about the lead_profile type - here, using 'Other' as default would be wrong, as that would imply that the lead's profile is not one of the other options - which is definitively excluding, while we can't be sure, as these are simply cases without user's response"
   ]
  },
  {
   "cell_type": "code",
   "execution_count": 47,
   "metadata": {},
   "outputs": [
    {
     "data": {
      "text/plain": [
       "tags                                               converted\n",
       "Already a student                                  0             462\n",
       "                                                   1               3\n",
       "Busy                                               0              81\n",
       "                                                   1             105\n",
       "Closed by Horizzon                                 0               2\n",
       "                                                   1             356\n",
       "Diploma holder (Not Eligible)                      0              62\n",
       "                                                   1               1\n",
       "Graduation in progress                             0             104\n",
       "                                                   1               7\n",
       "In confusion whether part time or DLP              0               4\n",
       "                                                   1               1\n",
       "Interested  in full time MBA                       0             114\n",
       "                                                   1               3\n",
       "Interested in Next batch                           1               5\n",
       "Interested in other courses                        0             500\n",
       "                                                   1              13\n",
       "Lateral student                                    1               3\n",
       "Lost to EINS                                       0               4\n",
       "                                                   1             171\n",
       "Lost to Others                                     0               7\n",
       "Not doing further education                        0             144\n",
       "                                                   1               1\n",
       "Recognition issue (DEC approval)                   0               1\n",
       "Ringing                                            0            1169\n",
       "                                                   1              34\n",
       "Shall take in the next coming month                0               1\n",
       "                                                   1               1\n",
       "Still Thinking                                     0               5\n",
       "                                                   1               1\n",
       "University not recognized                          0               2\n",
       "Want to take admission but has financial problems  0               4\n",
       "                                                   1               2\n",
       "Will revert after reading the email                0              65\n",
       "                                                   1            2007\n",
       "in touch with EINS                                 0               9\n",
       "                                                   1               3\n",
       "invalid number                                     0              82\n",
       "                                                   1               1\n",
       "number not provided                                0              27\n",
       "opp hangup                                         0              30\n",
       "                                                   1               3\n",
       "switched off                                       0             236\n",
       "                                                   1               4\n",
       "wrong number given                                 0              47\n",
       "NaN                                                0            2517\n",
       "                                                   1             836\n",
       "dtype: int64"
      ]
     },
     "execution_count": 47,
     "metadata": {},
     "output_type": "execute_result"
    }
   ],
   "source": [
    "analysis_df.groupby(['tags', 'converted'], dropna=False).size()"
   ]
  },
  {
   "cell_type": "markdown",
   "metadata": {},
   "source": [
    "though - null values in lead_quality can be replaced with 'Not Sure' - it still represents ambiguity in what lead_quality can be inferred, and could potentially be one of the other lead_quality values.\n",
    "\n",
    "clearly, lead_profile, lead_quality - both these columns have high no. of null values, and null values are distributed between both converted and not converted instances\n",
    "\n",
    "what_matters_most_to_you_in_choosing_a_course, tags - though null values are observed mainly with NaNs, the distribution of converted type in it has similar distributions of converted type for other only significant non-values - what_matters_most_to_you_in_choosing_a_course"
   ]
  },
  {
   "cell_type": "code",
   "execution_count": 48,
   "metadata": {},
   "outputs": [
    {
     "data": {
      "text/plain": [
       "Index(['what_matters_most_to_you_in_choosing_a_course', 'total_visits',\n",
       "       'lead_profile', 'tags', 'total_time_spent_on_website',\n",
       "       'page_views_per_visit', 'lead_quality', 'converted'],\n",
       "      dtype='object')"
      ]
     },
     "execution_count": 48,
     "metadata": {},
     "output_type": "execute_result"
    }
   ],
   "source": [
    "analysis_df.columns"
   ]
  },
  {
   "cell_type": "code",
   "execution_count": 49,
   "metadata": {},
   "outputs": [],
   "source": [
    "del analysis_df['lead_profile']\n",
    "del analysis_df['lead_quality']\n",
    "del analysis_df['what_matters_most_to_you_in_choosing_a_course']\n",
    "del analysis_df['tags']"
   ]
  },
  {
   "cell_type": "code",
   "execution_count": 50,
   "metadata": {},
   "outputs": [],
   "source": [
    "cols_with_missing = ['lead_profile', 'lead_quality', 'what_matters_most_to_you_in_choosing_a_course', 'tags']"
   ]
  },
  {
   "cell_type": "code",
   "execution_count": 51,
   "metadata": {},
   "outputs": [
    {
     "data": {
      "text/plain": [
       "['total_visits',\n",
       " 'total_time_spent_on_website',\n",
       " 'page_views_per_visit',\n",
       " 'converted',\n",
       " 'what_matters_most_to_you_in_choosing_a_course',\n",
       " 'tags']"
      ]
     },
     "execution_count": 51,
     "metadata": {},
     "output_type": "execute_result"
    }
   ],
   "source": [
    "analysis_cols = list(analysis_df.columns)+['what_matters_most_to_you_in_choosing_a_course', 'tags']\n",
    "analysis_cols"
   ]
  },
  {
   "cell_type": "code",
   "execution_count": 52,
   "metadata": {},
   "outputs": [
    {
     "data": {
      "text/html": [
       "<div>\n",
       "<style scoped>\n",
       "    .dataframe tbody tr th:only-of-type {\n",
       "        vertical-align: middle;\n",
       "    }\n",
       "\n",
       "    .dataframe tbody tr th {\n",
       "        vertical-align: top;\n",
       "    }\n",
       "\n",
       "    .dataframe thead th {\n",
       "        text-align: right;\n",
       "    }\n",
       "</style>\n",
       "<table border=\"1\" class=\"dataframe\">\n",
       "  <thead>\n",
       "    <tr style=\"text-align: right;\">\n",
       "      <th></th>\n",
       "      <th>total_visits</th>\n",
       "      <th>total_time_spent_on_website</th>\n",
       "      <th>page_views_per_visit</th>\n",
       "      <th>converted</th>\n",
       "      <th>what_matters_most_to_you_in_choosing_a_course</th>\n",
       "      <th>tags</th>\n",
       "    </tr>\n",
       "  </thead>\n",
       "  <tbody>\n",
       "    <tr>\n",
       "      <th>0</th>\n",
       "      <td>0.0</td>\n",
       "      <td>0</td>\n",
       "      <td>0.0</td>\n",
       "      <td>0</td>\n",
       "      <td>Better Career Prospects</td>\n",
       "      <td>Interested in other courses</td>\n",
       "    </tr>\n",
       "    <tr>\n",
       "      <th>1</th>\n",
       "      <td>5.0</td>\n",
       "      <td>674</td>\n",
       "      <td>2.5</td>\n",
       "      <td>0</td>\n",
       "      <td>Better Career Prospects</td>\n",
       "      <td>Ringing</td>\n",
       "    </tr>\n",
       "    <tr>\n",
       "      <th>2</th>\n",
       "      <td>2.0</td>\n",
       "      <td>1532</td>\n",
       "      <td>2.0</td>\n",
       "      <td>1</td>\n",
       "      <td>Better Career Prospects</td>\n",
       "      <td>Will revert after reading the email</td>\n",
       "    </tr>\n",
       "    <tr>\n",
       "      <th>3</th>\n",
       "      <td>1.0</td>\n",
       "      <td>305</td>\n",
       "      <td>1.0</td>\n",
       "      <td>0</td>\n",
       "      <td>Better Career Prospects</td>\n",
       "      <td>Ringing</td>\n",
       "    </tr>\n",
       "    <tr>\n",
       "      <th>4</th>\n",
       "      <td>2.0</td>\n",
       "      <td>1428</td>\n",
       "      <td>1.0</td>\n",
       "      <td>1</td>\n",
       "      <td>Better Career Prospects</td>\n",
       "      <td>Will revert after reading the email</td>\n",
       "    </tr>\n",
       "  </tbody>\n",
       "</table>\n",
       "</div>"
      ],
      "text/plain": [
       "   total_visits  total_time_spent_on_website  page_views_per_visit  converted  \\\n",
       "0           0.0                            0                   0.0          0   \n",
       "1           5.0                          674                   2.5          0   \n",
       "2           2.0                         1532                   2.0          1   \n",
       "3           1.0                          305                   1.0          0   \n",
       "4           2.0                         1428                   1.0          1   \n",
       "\n",
       "  what_matters_most_to_you_in_choosing_a_course  \\\n",
       "0                       Better Career Prospects   \n",
       "1                       Better Career Prospects   \n",
       "2                       Better Career Prospects   \n",
       "3                       Better Career Prospects   \n",
       "4                       Better Career Prospects   \n",
       "\n",
       "                                  tags  \n",
       "0          Interested in other courses  \n",
       "1                              Ringing  \n",
       "2  Will revert after reading the email  \n",
       "3                              Ringing  \n",
       "4  Will revert after reading the email  "
      ]
     },
     "execution_count": 52,
     "metadata": {},
     "output_type": "execute_result"
    }
   ],
   "source": [
    "df[analysis_cols].head()"
   ]
  },
  {
   "cell_type": "code",
   "execution_count": 53,
   "metadata": {},
   "outputs": [
    {
     "data": {
      "image/png": "[encoded data removed]",
      "text/plain": [
       "<Figure size 1000x600 with 1 Axes>"
      ]
     },
     "metadata": {},
     "output_type": "display_data"
    },
    {
     "data": {
      "image/png": "[encoded data removed]",
      "text/plain": [
       "<Figure size 1000x600 with 1 Axes>"
      ]
     },
     "metadata": {},
     "output_type": "display_data"
    }
   ],
   "source": [
    "import matplotlib.pyplot as plt\n",
    "import seaborn as sns\n",
    "\n",
    "# Categorical columns\n",
    "categorical_columns = ['what_matters_most_to_you_in_choosing_a_course', 'tags']\n",
    "\n",
    "# Plot for each categorical column\n",
    "for column in categorical_columns:\n",
    "    plt.figure(figsize=(10, 6))\n",
    "    sns.countplot(x=column, hue='converted', data=df, palette='viridis')\n",
    "    plt.title(f'{column} vs. Converted')\n",
    "    plt.xlabel(column)\n",
    "    plt.ylabel('Count')\n",
    "    plt.show()\n"
   ]
  },
  {
   "cell_type": "code",
   "execution_count": 54,
   "metadata": {},
   "outputs": [
    {
     "data": {
      "image/png": "[encoded data removed]",
      "text/plain": [
       "<Figure size 800x600 with 2 Axes>"
      ]
     },
     "metadata": {},
     "output_type": "display_data"
    }
   ],
   "source": [
    "# Calculate correlation matrix\n",
    "correlation_matrix = analysis_df.corr()\n",
    "\n",
    "# Create a heatmap using seaborn\n",
    "plt.figure(figsize=(8, 6))\n",
    "sns.heatmap(correlation_matrix, annot=True, cmap='coolwarm', linewidths=0.5)\n",
    "plt.title('Correlation Heatmap')\n",
    "plt.show()"
   ]
  },
  {
   "cell_type": "code",
   "execution_count": 55,
   "metadata": {},
   "outputs": [],
   "source": [
    "import pandas as pd\n",
    "from sklearn.impute import SimpleImputer\n",
    "\n",
    "df_categorical_missing = df[cols_with_missing]\n",
    "\n",
    "# Instantiate the SimpleImputer with 'most_frequent' strategy\n",
    "imputer = SimpleImputer(strategy='most_frequent')\n",
    "\n",
    "# Impute missing values in categorical columns\n",
    "df_categorical_imputed = pd.DataFrame(imputer.fit_transform(df_categorical_missing), columns=cols_with_missing)\n",
    "\n",
    "df[cols_with_missing] = df_categorical_imputed"
   ]
  },
  {
   "cell_type": "code",
   "execution_count": 57,
   "metadata": {},
   "outputs": [
    {
     "data": {
      "text/html": [
       "<div>\n",
       "<style scoped>\n",
       "    .dataframe tbody tr th:only-of-type {\n",
       "        vertical-align: middle;\n",
       "    }\n",
       "\n",
       "    .dataframe tbody tr th {\n",
       "        vertical-align: top;\n",
       "    }\n",
       "\n",
       "    .dataframe thead th {\n",
       "        text-align: right;\n",
       "    }\n",
       "</style>\n",
       "<table border=\"1\" class=\"dataframe\">\n",
       "  <thead>\n",
       "    <tr style=\"text-align: right;\">\n",
       "      <th></th>\n",
       "      <th>lead_profile</th>\n",
       "      <th>lead_quality</th>\n",
       "      <th>what_matters_most_to_you_in_choosing_a_course</th>\n",
       "      <th>tags</th>\n",
       "    </tr>\n",
       "  </thead>\n",
       "  <tbody>\n",
       "    <tr>\n",
       "      <th>0</th>\n",
       "      <td>None</td>\n",
       "      <td>Low in Relevance</td>\n",
       "      <td>Better Career Prospects</td>\n",
       "      <td>Interested in other courses</td>\n",
       "    </tr>\n",
       "    <tr>\n",
       "      <th>1</th>\n",
       "      <td>None</td>\n",
       "      <td>Might be</td>\n",
       "      <td>Better Career Prospects</td>\n",
       "      <td>Ringing</td>\n",
       "    </tr>\n",
       "    <tr>\n",
       "      <th>2</th>\n",
       "      <td>Potential Lead</td>\n",
       "      <td>Might be</td>\n",
       "      <td>Better Career Prospects</td>\n",
       "      <td>Will revert after reading the email</td>\n",
       "    </tr>\n",
       "    <tr>\n",
       "      <th>3</th>\n",
       "      <td>None</td>\n",
       "      <td>Not Sure</td>\n",
       "      <td>Better Career Prospects</td>\n",
       "      <td>Ringing</td>\n",
       "    </tr>\n",
       "    <tr>\n",
       "      <th>4</th>\n",
       "      <td>None</td>\n",
       "      <td>Might be</td>\n",
       "      <td>Better Career Prospects</td>\n",
       "      <td>Will revert after reading the email</td>\n",
       "    </tr>\n",
       "    <tr>\n",
       "      <th>...</th>\n",
       "      <td>...</td>\n",
       "      <td>...</td>\n",
       "      <td>...</td>\n",
       "      <td>...</td>\n",
       "    </tr>\n",
       "    <tr>\n",
       "      <th>9235</th>\n",
       "      <td>Potential Lead</td>\n",
       "      <td>High in Relevance</td>\n",
       "      <td>Better Career Prospects</td>\n",
       "      <td>Will revert after reading the email</td>\n",
       "    </tr>\n",
       "    <tr>\n",
       "      <th>9236</th>\n",
       "      <td>Potential Lead</td>\n",
       "      <td>Might be</td>\n",
       "      <td>Better Career Prospects</td>\n",
       "      <td>wrong number given</td>\n",
       "    </tr>\n",
       "    <tr>\n",
       "      <th>9237</th>\n",
       "      <td>Potential Lead</td>\n",
       "      <td>Not Sure</td>\n",
       "      <td>Better Career Prospects</td>\n",
       "      <td>invalid number</td>\n",
       "    </tr>\n",
       "    <tr>\n",
       "      <th>9238</th>\n",
       "      <td>None</td>\n",
       "      <td>Might be</td>\n",
       "      <td>Better Career Prospects</td>\n",
       "      <td>Will revert after reading the email</td>\n",
       "    </tr>\n",
       "    <tr>\n",
       "      <th>9239</th>\n",
       "      <td>Potential Lead</td>\n",
       "      <td>Might be</td>\n",
       "      <td>Better Career Prospects</td>\n",
       "      <td>Will revert after reading the email</td>\n",
       "    </tr>\n",
       "  </tbody>\n",
       "</table>\n",
       "<p>9240 rows × 4 columns</p>\n",
       "</div>"
      ],
      "text/plain": [
       "        lead_profile       lead_quality  \\\n",
       "0               None   Low in Relevance   \n",
       "1               None           Might be   \n",
       "2     Potential Lead           Might be   \n",
       "3               None           Not Sure   \n",
       "4               None           Might be   \n",
       "...              ...                ...   \n",
       "9235  Potential Lead  High in Relevance   \n",
       "9236  Potential Lead           Might be   \n",
       "9237  Potential Lead           Not Sure   \n",
       "9238            None           Might be   \n",
       "9239  Potential Lead           Might be   \n",
       "\n",
       "     what_matters_most_to_you_in_choosing_a_course  \\\n",
       "0                          Better Career Prospects   \n",
       "1                          Better Career Prospects   \n",
       "2                          Better Career Prospects   \n",
       "3                          Better Career Prospects   \n",
       "4                          Better Career Prospects   \n",
       "...                                            ...   \n",
       "9235                       Better Career Prospects   \n",
       "9236                       Better Career Prospects   \n",
       "9237                       Better Career Prospects   \n",
       "9238                       Better Career Prospects   \n",
       "9239                       Better Career Prospects   \n",
       "\n",
       "                                     tags  \n",
       "0             Interested in other courses  \n",
       "1                                 Ringing  \n",
       "2     Will revert after reading the email  \n",
       "3                                 Ringing  \n",
       "4     Will revert after reading the email  \n",
       "...                                   ...  \n",
       "9235  Will revert after reading the email  \n",
       "9236                   wrong number given  \n",
       "9237                       invalid number  \n",
       "9238  Will revert after reading the email  \n",
       "9239  Will revert after reading the email  \n",
       "\n",
       "[9240 rows x 4 columns]"
      ]
     },
     "execution_count": 57,
     "metadata": {},
     "output_type": "execute_result"
    }
   ],
   "source": [
    "df_categorical_imputed"
   ]
  },
  {
   "cell_type": "code",
   "execution_count": 58,
   "metadata": {},
   "outputs": [
    {
     "data": {
      "text/plain": [
       "total_visits                                     137\n",
       "total_time_spent_on_website                        0\n",
       "page_views_per_visit                             137\n",
       "converted                                          0\n",
       "what_matters_most_to_you_in_choosing_a_course      0\n",
       "tags                                               0\n",
       "dtype: int64"
      ]
     },
     "execution_count": 58,
     "metadata": {},
     "output_type": "execute_result"
    }
   ],
   "source": [
    "df[analysis_cols].isnull().sum()"
   ]
  },
  {
   "cell_type": "code",
   "execution_count": 59,
   "metadata": {},
   "outputs": [
    {
     "data": {
      "text/plain": [
       "total_visits                                     0\n",
       "total_time_spent_on_website                      0\n",
       "page_views_per_visit                             0\n",
       "converted                                        0\n",
       "what_matters_most_to_you_in_choosing_a_course    0\n",
       "tags                                             0\n",
       "dtype: int64"
      ]
     },
     "execution_count": 59,
     "metadata": {},
     "output_type": "execute_result"
    }
   ],
   "source": [
    "# as the count of total_visits is small - we will drop the records with nan values \n",
    "\n",
    "df = df.loc[df['total_visits'].isnull()==False]\n",
    "df = df.loc[df['page_views_per_visit'].isnull()==False]\n",
    "\n",
    "df[analysis_cols].isnull().sum()"
   ]
  },
  {
   "cell_type": "code",
   "execution_count": 60,
   "metadata": {},
   "outputs": [
    {
     "data": {
      "text/plain": [
       "Index(['total_visits', 'total_time_spent_on_website', 'page_views_per_visit',\n",
       "       'converted'],\n",
       "      dtype='object')"
      ]
     },
     "execution_count": 60,
     "metadata": {},
     "output_type": "execute_result"
    }
   ],
   "source": [
    "analysis_df.columns"
   ]
  },
  {
   "cell_type": "markdown",
   "metadata": {},
   "source": [
    "here, all the categorical cols are excluded from analysis as the features with moderate to strong correlation - had high instances of null values"
   ]
  },
  {
   "cell_type": "code",
   "execution_count": 62,
   "metadata": {},
   "outputs": [
    {
     "name": "stdout",
     "output_type": "stream",
     "text": [
      "Accuracy: 0.7287\n",
      "Confusion Matrix:\n",
      "[[1031  129]\n",
      " [ 365  296]]\n",
      "Classification Report:\n",
      "              precision    recall  f1-score   support\n",
      "\n",
      "           0       0.74      0.89      0.81      1160\n",
      "           1       0.70      0.45      0.55       661\n",
      "\n",
      "    accuracy                           0.73      1821\n",
      "   macro avg       0.72      0.67      0.68      1821\n",
      "weighted avg       0.72      0.73      0.71      1821\n",
      "\n"
     ]
    }
   ],
   "source": [
    "import pandas as pd\n",
    "from sklearn.model_selection import train_test_split\n",
    "from sklearn.linear_model import LogisticRegression\n",
    "from sklearn.preprocessing import StandardScaler\n",
    "from sklearn.metrics import accuracy_score, classification_report, confusion_matrix\n",
    "\n",
    "# Assuming 'analysis_df' is your DataFrame\n",
    "# Extract features (X) and target variable (y)\n",
    "X = df[['total_visits', 'total_time_spent_on_website', 'page_views_per_visit']]\n",
    "y = df['converted']\n",
    "\n",
    "# Split the data into training and testing sets\n",
    "X_train, X_test, y_train, y_test = train_test_split(X, y, test_size=0.2, random_state=42)\n",
    "\n",
    "# Standardize the features (optional but often recommended for logistic regression)\n",
    "scaler = StandardScaler()\n",
    "X_train_scaled = scaler.fit_transform(X_train)\n",
    "X_test_scaled = scaler.transform(X_test)\n",
    "\n",
    "# Instantiate the logistic regression model\n",
    "logreg_model = LogisticRegression()\n",
    "\n",
    "# Train the model on the training set\n",
    "logreg_model.fit(X_train_scaled, y_train)\n",
    "\n",
    "# Make predictions on the test set\n",
    "y_pred = logreg_model.predict(X_test_scaled)\n",
    "\n",
    "# Evaluate the model\n",
    "accuracy = accuracy_score(y_test, y_pred)\n",
    "conf_matrix = confusion_matrix(y_test, y_pred)\n",
    "classification_report_str = classification_report(y_test, y_pred)\n",
    "\n",
    "# Print the evaluation metrics\n",
    "print(f'Accuracy: {accuracy:.4f}')\n",
    "print(f'Confusion Matrix:\\n{conf_matrix}')\n",
    "print(f'Classification Report:\\n{classification_report_str}')\n"
   ]
  },
  {
   "cell_type": "code",
   "execution_count": 63,
   "metadata": {},
   "outputs": [
    {
     "data": {
      "text/plain": [
       "['tags',\n",
       " 'page_views_per_visit',\n",
       " 'total_visits',\n",
       " 'what_matters_most_to_you_in_choosing_a_course',\n",
       " 'total_time_spent_on_website']"
      ]
     },
     "execution_count": 63,
     "metadata": {},
     "output_type": "execute_result"
    }
   ],
   "source": [
    "predictors = list(set(analysis_cols) - {'converted'})\n",
    "\n",
    "predictors"
   ]
  },
  {
   "cell_type": "code",
   "execution_count": 65,
   "metadata": {},
   "outputs": [
    {
     "name": "stdout",
     "output_type": "stream",
     "text": [
      "Accuracy: 0.8177\n",
      "Confusion Matrix:\n",
      "[[1069   91]\n",
      " [ 241  420]]\n",
      "Classification Report:\n",
      "              precision    recall  f1-score   support\n",
      "\n",
      "           0       0.82      0.92      0.87      1160\n",
      "           1       0.82      0.64      0.72       661\n",
      "\n",
      "    accuracy                           0.82      1821\n",
      "   macro avg       0.82      0.78      0.79      1821\n",
      "weighted avg       0.82      0.82      0.81      1821\n",
      "\n"
     ]
    },
    {
     "name": "stderr",
     "output_type": "stream",
     "text": [
      "/Users/varshinibalaji/Documents/DSProjects/hot_leads_predictor/hot_leads_predictor_env/lib/python3.11/site-packages/sklearn/preprocessing/_encoders.py:975: FutureWarning: `sparse` was renamed to `sparse_output` in version 1.2 and will be removed in 1.4. `sparse_output` is ignored unless you leave `sparse` to its default value.\n",
      "  warnings.warn(\n",
      "/Users/varshinibalaji/Documents/DSProjects/hot_leads_predictor/hot_leads_predictor_env/lib/python3.11/site-packages/sklearn/linear_model/_logistic.py:460: ConvergenceWarning: lbfgs failed to converge (status=1):\n",
      "STOP: TOTAL NO. of ITERATIONS REACHED LIMIT.\n",
      "\n",
      "Increase the number of iterations (max_iter) or scale the data as shown in:\n",
      "    https://scikit-learn.org/stable/modules/preprocessing.html\n",
      "Please also refer to the documentation for alternative solver options:\n",
      "    https://scikit-learn.org/stable/modules/linear_model.html#logistic-regression\n",
      "  n_iter_i = _check_optimize_result(\n"
     ]
    }
   ],
   "source": [
    "import pandas as pd\n",
    "from sklearn.model_selection import train_test_split\n",
    "from sklearn.linear_model import LogisticRegression\n",
    "from sklearn.preprocessing import StandardScaler, OneHotEncoder\n",
    "from sklearn.compose import ColumnTransformer\n",
    "from sklearn.pipeline import Pipeline\n",
    "from sklearn.metrics import accuracy_score, classification_report, confusion_matrix\n",
    "\n",
    "# Assuming 'analysis_df' is your DataFrame\n",
    "# Extract features (X) and target variable (y)\n",
    "X = df[['total_visits', 'total_time_spent_on_website', 'page_views_per_visit',\n",
    "                 'what_matters_most_to_you_in_choosing_a_course', 'tags']]\n",
    "y = df['converted']\n",
    "\n",
    "# Split the data into training and testing sets\n",
    "X_train, X_test, y_train, y_test = train_test_split(X, y, test_size=0.2, random_state=42)\n",
    "\n",
    "# Define numerical and categorical features\n",
    "numerical_features = ['total_visits', 'total_time_spent_on_website', 'page_views_per_visit']\n",
    "categorical_features = ['what_matters_most_to_you_in_choosing_a_course', 'tags']\n",
    "\n",
    "# Create transformers for numerical and categorical features\n",
    "numerical_transformer = StandardScaler()\n",
    "categorical_transformer = OneHotEncoder(drop='first', sparse=False)\n",
    "\n",
    "# Create a column transformer to apply transformers to respective features\n",
    "preprocessor = ColumnTransformer(\n",
    "    transformers=[\n",
    "        ('num', numerical_transformer, numerical_features),\n",
    "        ('cat', categorical_transformer, categorical_features)\n",
    "    ]\n",
    ")\n",
    "\n",
    "# Create a pipeline with the preprocessor and logistic regression model\n",
    "model = Pipeline(steps=[\n",
    "    ('preprocessor', preprocessor),\n",
    "    ('classifier', LogisticRegression())\n",
    "])\n",
    "\n",
    "# Train the model on the training set\n",
    "model.fit(X_train, y_train)\n",
    "\n",
    "# Make predictions on the test set\n",
    "y_pred = model.predict(X_test)\n",
    "\n",
    "# Evaluate the model\n",
    "accuracy = accuracy_score(y_test, y_pred)\n",
    "conf_matrix = confusion_matrix(y_test, y_pred)\n",
    "classification_report_str = classification_report(y_test, y_pred)\n",
    "\n",
    "# Print the evaluation metrics\n",
    "print(f'Accuracy: {accuracy:.4f}')\n",
    "print(f'Confusion Matrix:\\n{conf_matrix}')\n",
    "print(f'Classification Report:\\n{classification_report_str}')\n"
   ]
  },
  {
   "cell_type": "code",
   "execution_count": 66,
   "metadata": {},
   "outputs": [
    {
     "name": "stdout",
     "output_type": "stream",
     "text": [
      "Accuracy: 0.8177\n",
      "Confusion Matrix:\n",
      "[[1069   91]\n",
      " [ 241  420]]\n",
      "Classification Report:\n",
      "              precision    recall  f1-score   support\n",
      "\n",
      "           0       0.82      0.92      0.87      1160\n",
      "           1       0.82      0.64      0.72       661\n",
      "\n",
      "    accuracy                           0.82      1821\n",
      "   macro avg       0.82      0.78      0.79      1821\n",
      "weighted avg       0.82      0.82      0.81      1821\n",
      "\n"
     ]
    },
    {
     "name": "stderr",
     "output_type": "stream",
     "text": [
      "/Users/varshinibalaji/Documents/DSProjects/hot_leads_predictor/hot_leads_predictor_env/lib/python3.11/site-packages/sklearn/preprocessing/_encoders.py:975: FutureWarning: `sparse` was renamed to `sparse_output` in version 1.2 and will be removed in 1.4. `sparse_output` is ignored unless you leave `sparse` to its default value.\n",
      "  warnings.warn(\n"
     ]
    }
   ],
   "source": [
    "from sklearn.linear_model import LogisticRegression\n",
    "from sklearn.model_selection import train_test_split\n",
    "from sklearn.preprocessing import StandardScaler\n",
    "from sklearn.compose import ColumnTransformer\n",
    "from sklearn.pipeline import Pipeline\n",
    "from sklearn.metrics import accuracy_score, classification_report, confusion_matrix\n",
    "\n",
    "\n",
    "# Define numerical and categorical features\n",
    "numerical_features = ['total_visits', 'total_time_spent_on_website', 'page_views_per_visit']\n",
    "categorical_features = ['what_matters_most_to_you_in_choosing_a_course', 'tags']\n",
    "\n",
    "# Create transformers for numerical and categorical features\n",
    "numerical_transformer = StandardScaler()\n",
    "categorical_transformer = OneHotEncoder(drop='first', sparse=False)\n",
    "\n",
    "# Create a column transformer to apply transformers to respective features\n",
    "preprocessor = ColumnTransformer(\n",
    "    transformers=[\n",
    "        ('num', numerical_transformer, numerical_features),\n",
    "        ('cat', categorical_transformer, categorical_features)\n",
    "    ]\n",
    ")\n",
    "\n",
    "# Create a pipeline with the preprocessor and logistic regression model\n",
    "model = Pipeline(steps=[\n",
    "    ('preprocessor', preprocessor),\n",
    "    ('classifier', LogisticRegression(max_iter=1000))  # Increase max_iter value\n",
    "])\n",
    "\n",
    "# Train the model on the training set\n",
    "model.fit(X_train, y_train)\n",
    "\n",
    "# Make predictions on the test set\n",
    "y_pred = model.predict(X_test)\n",
    "\n",
    "# Evaluate the model\n",
    "accuracy = accuracy_score(y_test, y_pred)\n",
    "conf_matrix = confusion_matrix(y_test, y_pred)\n",
    "classification_report_str = classification_report(y_test, y_pred)\n",
    "\n",
    "# Print the evaluation metrics\n",
    "print(f'Accuracy: {accuracy:.4f}')\n",
    "print(f'Confusion Matrix:\\n{conf_matrix}')\n",
    "print(f'Classification Report:\\n{classification_report_str}')\n"
   ]
  },
  {
   "cell_type": "markdown",
   "metadata": {},
   "source": [
    "As we can see including the categorical variables after imputing them with mode - most frequent values,improves the model performance"
   ]
  },
  {
   "cell_type": "markdown",
   "metadata": {},
   "source": [
    "Performance Metrics\n",
    "\n",
    "Input Features - \n",
    "\n",
    " - Categorical features selected based on correlation after null value imputation - ['what_matters_most_to_you_in_choosing_a_course', 'tags']\n",
    " \n",
    "- Numerical features selected based on moderate to strong correlation - ['total_visits', 'total_time_spent_on_website', 'page_views_per_visit']\n",
    "- Precision - 0.82\n",
    "- Recall - 0.92\n",
    "- F1 Score - 0.82"
   ]
  },
  {
   "cell_type": "code",
   "execution_count": 240,
   "metadata": {},
   "outputs": [
    {
     "data": {
      "image/png": "[encoded data removed]",
      "text/plain": [
       "<Figure size 800x800 with 1 Axes>"
      ]
     },
     "metadata": {},
     "output_type": "display_data"
    }
   ],
   "source": [
    "import matplotlib.pyplot as plt\n",
    "from sklearn.metrics import roc_curve, roc_auc_score\n",
    "\n",
    "\n",
    "# Make predictions on the test set\n",
    "y_pred_proba = model.predict_proba(X_test)[:, 1]\n",
    "\n",
    "# Calculate ROC curve\n",
    "fpr, tpr, thresholds = roc_curve(y_test, y_pred_proba)\n",
    "\n",
    "# Calculate AUC\n",
    "auc = roc_auc_score(y_test, y_pred_proba)\n",
    "\n",
    "# Plot ROC curve\n",
    "plt.figure(figsize=(8, 8))\n",
    "plt.plot(fpr, tpr, color='blue', lw=2, label=f'AUC = {auc:.4f}')\n",
    "plt.plot([0, 1], [0, 1], color='gray', linestyle='--')\n",
    "plt.xlabel('False Positive Rate (FPR)')\n",
    "plt.ylabel('True Positive Rate (TPR)')\n",
    "plt.title('ROC Curve')\n",
    "plt.legend()\n",
    "plt.show()\n"
   ]
  },
  {
   "cell_type": "markdown",
   "metadata": {},
   "source": [
    "```AUC Score of 0.8756 - depicts a high predictive power of the LogisticRegression model for this data sample```"
   ]
  },
  {
   "cell_type": "markdown",
   "metadata": {},
   "source": [
    "\n",
    "### Subjective Questions"
   ]
  },
  {
   "cell_type": "markdown",
   "metadata": {},
   "source": [
    "1. Which are the top three variables in your model which contribute most towards the probability of a lead getting converted?"
   ]
  },
  {
   "cell_type": "code",
   "execution_count": 250,
   "metadata": {},
   "outputs": [
    {
     "name": "stdout",
     "output_type": "stream",
     "text": [
      "                                              Feature  Absolute Coefficient\n",
      "6                             tags_Closed by Horizzon              6.390429\n",
      "14                                  tags_Lost to EINS              5.520299\n",
      "23           tags_Will revert after reading the email              3.027712\n",
      "5                                           tags_Busy              2.914664\n",
      "11                      tags_Interested in Next batch              1.747355\n",
      "13                               tags_Lateral student              1.708576\n",
      "16                   tags_Not doing further education              1.193583\n",
      "28                                  tags_switched off              1.022778\n",
      "1                         total_time_spent_on_website              0.917971\n",
      "29                            tags_wrong number given              0.860509\n",
      "26                           tags_number not provided              0.848427\n",
      "22  tags_Want to take admission but has financial ...              0.778919\n",
      "18                                       tags_Ringing              0.752417\n",
      "25                                tags_invalid number              0.751743\n",
      "19           tags_Shall take in the next coming month              0.730351\n",
      "10                  tags_Interested  in full time MBA              0.700982\n",
      "24                            tags_in touch with EINS              0.679604\n",
      "12                   tags_Interested in other courses              0.675512\n",
      "7                  tags_Diploma holder (Not Eligible)              0.607707\n",
      "27                                    tags_opp hangup              0.474204\n",
      "8                         tags_Graduation in progress              0.411826\n",
      "20                                tags_Still Thinking              0.373223\n",
      "9          tags_In confusion whether part time or DLP              0.289150\n",
      "2                                page_views_per_visit              0.216841\n",
      "15                                tags_Lost to Others              0.133890\n",
      "21                     tags_University not recognized              0.127083\n",
      "3   what_matters_most_to_you_in_choosing_a_course_...              0.108446\n",
      "4   what_matters_most_to_you_in_choosing_a_course_...              0.071013\n",
      "17              tags_Recognition issue (DEC approval)              0.042683\n",
      "0                                        total_visits              0.030326\n"
     ]
    },
    {
     "name": "stderr",
     "output_type": "stream",
     "text": [
      "/Users/varshinibalaji/Documents/DSProjects/ds_assignments/hot_leads_predictor/hot_leads_predictor_env/lib/python3.11/site-packages/sklearn/preprocessing/_encoders.py:975: FutureWarning: `sparse` was renamed to `sparse_output` in version 1.2 and will be removed in 1.4. `sparse_output` is ignored unless you leave `sparse` to its default value.\n",
      "  warnings.warn(\n",
      "/Users/varshinibalaji/Documents/DSProjects/ds_assignments/hot_leads_predictor/hot_leads_predictor_env/lib/python3.11/site-packages/sklearn/linear_model/_logistic.py:460: ConvergenceWarning: lbfgs failed to converge (status=1):\n",
      "STOP: TOTAL NO. of ITERATIONS REACHED LIMIT.\n",
      "\n",
      "Increase the number of iterations (max_iter) or scale the data as shown in:\n",
      "    https://scikit-learn.org/stable/modules/preprocessing.html\n",
      "Please also refer to the documentation for alternative solver options:\n",
      "    https://scikit-learn.org/stable/modules/linear_model.html#logistic-regression\n",
      "  n_iter_i = _check_optimize_result(\n"
     ]
    }
   ],
   "source": [
    "import pandas as pd\n",
    "from sklearn.model_selection import train_test_split\n",
    "from sklearn.linear_model import LogisticRegression\n",
    "from sklearn.preprocessing import StandardScaler, OneHotEncoder\n",
    "from sklearn.compose import ColumnTransformer\n",
    "from sklearn.pipeline import Pipeline\n",
    "\n",
    "# Assuming 'analysis_df' is your DataFrame\n",
    "# Assuming 'X' and 'y' are your features and target variable\n",
    "\n",
    "# Define numerical and categorical features\n",
    "numerical_features = ['total_visits', 'total_time_spent_on_website', 'page_views_per_visit']\n",
    "categorical_features = ['what_matters_most_to_you_in_choosing_a_course', 'tags']\n",
    "\n",
    "# Create transformers for numerical and categorical features\n",
    "numerical_transformer = StandardScaler()\n",
    "categorical_transformer = OneHotEncoder(drop='first', sparse=False)\n",
    "\n",
    "# Create a column transformer to apply transformers to respective features\n",
    "preprocessor = ColumnTransformer(\n",
    "    transformers=[\n",
    "        ('num', numerical_transformer, numerical_features),\n",
    "        ('cat', categorical_transformer, categorical_features)\n",
    "    ]\n",
    ")\n",
    "\n",
    "# Create a pipeline with the preprocessor and logistic regression model\n",
    "model = Pipeline(steps=[\n",
    "    ('preprocessor', preprocessor),\n",
    "    ('classifier', LogisticRegression())\n",
    "])\n",
    "\n",
    "# Train-test split\n",
    "X_train, X_test, y_train, y_test = train_test_split(X, y, test_size=0.2, random_state=42)\n",
    "\n",
    "# Train the model on the training set\n",
    "model.fit(X_train, y_train)\n",
    "\n",
    "# Get feature names including one-hot encoded columns\n",
    "feature_names = numerical_features + list(model.named_steps['preprocessor'].named_transformers_['cat'].get_feature_names_out(input_features=categorical_features))\n",
    "\n",
    "# Get the coefficients and their absolute values\n",
    "coefficients = model.named_steps['classifier'].coef_[0]\n",
    "absolute_coefficients = abs(coefficients)\n",
    "\n",
    "# Create a DataFrame to display the absolute coefficients and corresponding features\n",
    "coefficients_df = pd.DataFrame({'Feature': feature_names, 'Absolute Coefficient': absolute_coefficients})\n",
    "\n",
    "# Display the top features with the highest absolute coefficients\n",
    "top_features = coefficients_df.nlargest(30, 'Absolute Coefficient')\n",
    "print(top_features)\n"
   ]
  },
  {
   "cell_type": "markdown",
   "metadata": {},
   "source": [
    "tags, total_time_spent_on_website, page_views_per_visit"
   ]
  },
  {
   "cell_type": "markdown",
   "metadata": {},
   "source": [
    "What are the top 3 categorical/dummy variables in the model which should be focused the most on in order to increase the probability of lead conversion?\n",
    "\n",
    "tags_Closed by Horizzon              6.390429\n",
    "tags_Lost to EINS              5.520299\n",
    "tags_Will revert after reading the email"
   ]
  },
  {
   "cell_type": "markdown",
   "metadata": {},
   "source": []
  }
 ],
 "metadata": {
  "kernelspec": {
   "display_name": "base",
   "language": "python",
   "name": "python3"
  },
  "language_info": {
   "codemirror_mode": {
    "name": "ipython",
    "version": 3
   },
   "file_extension": ".py",
   "mimetype": "text/x-python",
   "name": "python",
   "nbconvert_exporter": "python",
   "pygments_lexer": "ipython3",
   "version": "3.11.5"
  },
  "orig_nbformat": 4
 },
 "nbformat": 4,
 "nbformat_minor": 2
}
